{
 "cells": [
  {
   "cell_type": "code",
   "execution_count": null,
   "metadata": {},
   "outputs": [],
   "source": [
    "from pathlib import Path"
   ]
  },
  {
   "cell_type": "code",
   "execution_count": null,
   "metadata": {},
   "outputs": [],
   "source": [
    "import sys\n",
    "sys.path.insert(0, \"/share/home/ychi/dev\")"
   ]
  },
  {
   "cell_type": "code",
   "execution_count": null,
   "metadata": {},
   "outputs": [],
   "source": [
    "ddir = Path(\"/shareb/ychi/repo/sperm_struct/notebooks/D_primary_views_pileup/\")"
   ]
  },
  {
   "cell_type": "code",
   "execution_count": null,
   "metadata": {},
   "outputs": [],
   "source": [
    "from hic_basic.hicio import read_meta"
   ]
  },
  {
   "cell_type": "code",
   "execution_count": null,
   "metadata": {},
   "outputs": [],
   "source": [
    "meta = read_meta(\"../A_meta/meta/tillsperm30.meta.csv.gz\")"
   ]
  },
  {
   "cell_type": "code",
   "execution_count": null,
   "metadata": {},
   "outputs": [],
   "source": [
    "gs = meta.query(\n",
    "    '(strain == \"B6\") & (condition == \"normal\")'\n",
    "    )[\"20k_g_struct1\"].dropna()"
   ]
  },
  {
   "cell_type": "code",
   "execution_count": null,
   "metadata": {},
   "outputs": [],
   "source": [
    "from hires_utils.hires_utils.hires_io import parse_3dg\n",
    "from hic_basic.structure.measure import primary_views"
   ]
  },
  {
   "cell_type": "code",
   "execution_count": null,
   "metadata": {},
   "outputs": [],
   "source": [
    "import pickle\n",
    "from functools import partial"
   ]
  },
  {
   "cell_type": "code",
   "execution_count": null,
   "metadata": {},
   "outputs": [],
   "source": [
    "Path(gs[0]).with_suffix(\".pkl\").name"
   ]
  },
  {
   "cell_type": "code",
   "execution_count": null,
   "metadata": {},
   "outputs": [],
   "source": [
    "outfile = ddir / \"primary_views.pkl\"\n",
    "Path(ddir/\"cache\").mkdir(exist_ok=True)\n",
    "\n",
    "def get_primary_views(fili, ngrid, cache_dir=None):\n",
    "    if cache_dir:\n",
    "        if (cache_dir / Path(fili).with_suffix(\".pkl\").name).exists():\n",
    "            print(\"Loading %s from cache.\" % fili)\n",
    "            with open(cache_dir+Path(fili).stem+\".pkl\", \"rb\") as f:\n",
    "                return pickle.load(f)\n",
    "    data = parse_3dg(fili)\n",
    "    print(\"Parsed %s\" % fili)\n",
    "    res = primary_views(data, ngrid, method=\"ray\")\n",
    "    print(\"Processing %s done.\" % fili)\n",
    "    if cache_dir:\n",
    "        with open((cache_dir / Path(fili).with_suffix(\".pkl\").name), \"wb\") as f:\n",
    "            pickle.dump(res, f)\n",
    "    return res\n",
    "print(\"Start processing...\")\n",
    "ares = list(map(partial(get_primary_views, ngrid=32, cache_dir=ddir / \"cache\"), gs))\n",
    "print(\"All done.\")\n",
    "with open(outfile, \"wb\") as f:\n",
    "    pickle.dump(dict(zip(gs.index,ares)), f)"
   ]
  },
  {
   "cell_type": "code",
   "execution_count": null,
   "metadata": {},
   "outputs": [],
   "source": []
  }
 ],
 "metadata": {
  "kernelspec": {
   "display_name": "embryo",
   "language": "python",
   "name": "python3"
  },
  "language_info": {
   "codemirror_mode": {
    "name": "ipython",
    "version": 3
   },
   "file_extension": ".py",
   "mimetype": "text/x-python",
   "name": "python",
   "nbconvert_exporter": "python",
   "pygments_lexer": "ipython3",
   "version": "3.10.8"
  },
  "orig_nbformat": 4
 },
 "nbformat": 4,
 "nbformat_minor": 2
}
