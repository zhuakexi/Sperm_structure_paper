{
 "cells": [
  {
   "cell_type": "code",
   "execution_count": 1,
   "metadata": {},
   "outputs": [],
   "source": [
    "%run \"../head.py\""
   ]
  },
  {
   "cell_type": "code",
   "execution_count": 2,
   "metadata": {},
   "outputs": [],
   "source": [
    "import sys\n",
    "import concurrent.futures\n",
    "from pathlib import Path\n",
    "\n",
    "import numpy as np\n",
    "import pandas as pd\n",
    "from hic_basic.hicio import read_meta, load_pickle, load_json\n",
    "from lib.struct import pileup_bf, consecutive_slice_pileup_bf, pileup_bf_mt"
   ]
  },
  {
   "cell_type": "code",
   "execution_count": 3,
   "metadata": {},
   "outputs": [],
   "source": [
    "# h.dsdir = Path(\"/shareb/ychi/repo/sperm_struct/ds_pipeline/smk\")\n",
    "# Sdir = Path(\"/share/home/ychi/dev/sperm_struct\")\n",
    "# h.ddir = Path(\"/shareb/ychi/repo/sperm_struct/notebooks/data/\")\n",
    "if h.version in [\"0\",\"1\"]:\n",
    "    meta = read_meta(\"../A_meta/meta/tillsperm55.meta.csv.gz\")\n",
    "    hg_meta = read_meta(\"../A_meta/meta/tillsperm62_hg.meta.csv.gz\")\n",
    "    GM_meta = read_meta(\"../A_meta/meta/tillsperm50_GM.meta.csv.gz\")\n",
    "    mESC_meta = read_meta(\"../A_meta/meta/tillsperm56_mESC.meta.csv.gz\")\n",
    "    Tan2018_meta = read_meta(\"../A_meta/meta/Tan2018.meta.csv.gz\")\n",
    "    RS_meta = read_meta(h.sdir / \"ds_pipeline/smk/config\" / \"RS.gs.sample_table.csv\")\n",
    "    meta = pd.concat([meta, hg_meta, GM_meta, mESC_meta, Tan2018_meta, RS_meta],axis=0)\n",
    "elif h.version == \"2\":\n",
    "    meta = read_meta(\"../A_meta/meta/All_formal.meta.csv.gz\")\n",
    "if h.version in [\"0\",\"1\"]:\n",
    "    primary_views = load_pickle(h.dsdir / \"primary_views/PFA05.64.pkl\")\n",
    "    primary_views.update(load_pickle(h.dsdir / \"primary_views/P3.64.pkl\"))\n",
    "    primary_views.update(load_pickle(h.dsdir / \"primary_views/GM.64.pkl\"))\n",
    "    primary_views.update(load_pickle(h.dsdir / \"primary_views/Sperm.64.pkl\"))\n",
    "    primary_views.update(load_pickle(h.dsdir / \"primary_views/Sperm_hg.64.pkl\"))\n",
    "    primary_views.update(load_pickle(h.dsdir / \"primary_views/mESC.64.pkl\"))\n",
    "    primary_views.update(load_pickle(h.dsdir / \"primary_views/Tan2018.64.pkl\"))\n",
    "    primary_views.update(load_pickle(h.dsdir / \"primary_views/RS.64.pkl\"))\n",
    "elif h.version == \"2\":\n",
    "    primary_views = {}\n",
    "    primary_views.update(load_pickle(h.dsdir / \"primary_views/Sperm.64.pkl\"))\n",
    "    primary_views.update(load_pickle(h.dsdir / \"primary_views/Sperm_hg.64.pkl\"))\n",
    "    primary_views.update(load_pickle(h.dsdir / \"primary_views/mESC.64.pkl\"))\n",
    "    primary_views.update(load_pickle(h.dsdir / \"primary_views/Tan2018.64.pkl\"))"
   ]
  },
  {
   "cell_type": "code",
   "execution_count": 4,
   "metadata": {},
   "outputs": [],
   "source": [
    "if h.version in [\"0\",\"1\"]:\n",
    "    GM_samples = list(load_pickle(h.dsdir / \"primary_views/GM.64.pkl\").keys())\n",
    "    RS_samples = RS_meta.index.tolist()\n",
    "mESC_samples = load_json(h.fig1 / f\"Fig1S_tech_analysis/mESC_samples_with_structure.v{h.version}.json\")\n",
    "Tan2018_samples = load_json(h.fig1 / f\"Fig1S_tech_analysis/Tan2018_samples_with_structure.v{h.version}.json\")\n",
    "\n",
    "\n",
    "Sperm_targets = pd.read_csv(\n",
    "    f\"../B_auto_alignment/Sperm.round1.targets.v{h.version}.csv\",\n",
    "    index_col = 0,\n",
    ")\n",
    "Sperm_targets.columns = [\"ht\", \"dv\", \"lr\"]\n",
    "Sperm_hg_targets = pd.read_csv(\n",
    "    f\"../B_auto_alignment/Sperm_hg.round1.targets.v{h.version}.csv\",\n",
    "    index_col = 0,\n",
    ")\n",
    "Sperm_hg_targets.columns = [\"ht\", \"dv\", \"lr\"]\n",
    "mESC_fake_targets = pd.DataFrame(\n",
    "        [[1,1,1] for _ in mESC_samples],\n",
    "        index = mESC_samples,\n",
    "        columns = [\"ht\", \"dv\", \"lr\"] \n",
    "        ) # fake targets for exploratory purpose\n",
    "Tan2018_fake_targets = pd.DataFrame(\n",
    "        [[1,1,1] for _ in Tan2018_samples],\n",
    "        index = Tan2018_samples,\n",
    "        columns = [\"ht\", \"dv\", \"lr\"] \n",
    "        ) # fake targets for exploratory purpose\n",
    "if h.version in [\"0\",\"1\"]:\n",
    "    GM_fake_targets = pd.DataFrame(\n",
    "            [[1,1,1] for _ in GM_samples],\n",
    "            index = GM_samples,\n",
    "            columns = [\"ht\", \"dv\", \"lr\"] \n",
    "            ) # fake targets for exploratory purpose\n",
    "    RS_fake_targets = pd.DataFrame(\n",
    "            [[1,1,1] for _ in RS_samples],\n",
    "            index = RS_samples,\n",
    "            columns = [\"ht\", \"dv\", \"lr\"] \n",
    "            ) # fake targets for exploratory purpose\n",
    "    targets = pd.concat(\n",
    "        [\n",
    "            Sperm_targets, Sperm_hg_targets, \n",
    "            GM_fake_targets, mESC_fake_targets, Tan2018_fake_targets,\n",
    "            RS_fake_targets\n",
    "            ]\n",
    "            )\n",
    "elif h.version == \"2\":\n",
    "    targets = pd.concat(\n",
    "        [Sperm_targets, Sperm_hg_targets, mESC_fake_targets, Tan2018_fake_targets]\n",
    "    )\n",
    "\n",
    "#Sperm_samples = load_json(f\"../Fig1S_tech_analysis/Sperm_samples_with_structure.v{h.version}.json\")\n",
    "Sperm_samples = load_json(h.fig1 / f\"Fig1S_structure_quality/Sperm_ga.v{h.version}.json\")\n",
    "mouse1_samples_mask = (meta[\"biosample_identity\"] == \"mouse1\") & (meta.index.isin(Sperm_samples))\n",
    "mouse1_samples = meta[mouse1_samples_mask].index.tolist()\n",
    "mouse2_samples_mask = (meta[\"biosample_identity\"] == \"mouse2\") & (meta.index.isin(Sperm_samples))\n",
    "mouse2_samples = meta[mouse2_samples_mask].index.tolist()\n",
    "#Sperm_hg_samples = load_json(f\"../Fig1S_tech_analysis/Sperm_hg_samples_with_structure.v{h.version}.json\")\n",
    "Sperm_hg_samples = load_json(h.fig1 / f\"Fig1S_structure_quality/Sperm_hg_ga.v{h.version}.json\")\n",
    "Sperm_Zheng_mask = (meta[\"biosample_identity\"] == \"Zheng\") & (meta.index.isin(Sperm_hg_samples))\n",
    "Sperm_Zheng_samples = meta[Sperm_Zheng_mask].index.tolist()\n",
    "Sperm_Liu_mask = (meta[\"biosample_identity\"] == \"Liu\") & (meta.index.isin(Sperm_hg_samples))\n",
    "Sperm_Liu_samples = meta[Sperm_Liu_mask].index.tolist()\n",
    "Sperm_X_bearing_samples = load_json(h.fig1 / f\"Fig1S_XY_ratio/X_sperm.v{h.version}.json\")\n",
    "Sperm_Y_bearing_samples = load_json(h.fig1 / f\"Fig1S_XY_ratio/Y_sperm.v{h.version}.json\")"
   ]
  },
  {
   "cell_type": "markdown",
   "metadata": {},
   "source": [
    "### Calculate primary views"
   ]
  },
  {
   "cell_type": "markdown",
   "metadata": {},
   "source": [
    "Done in ds_pipelin/direct/Primary_views.sh."
   ]
  },
  {
   "cell_type": "markdown",
   "metadata": {},
   "source": [
    "### Prepare arguments for pileup_bf"
   ]
  },
  {
   "cell_type": "code",
   "execution_count": 5,
   "metadata": {},
   "outputs": [],
   "source": [
    "if h.version in [\"0\",\"1\"]:\n",
    "    batches = [\n",
    "        \"Sperm\",\n",
    "        \"mouse1\",\n",
    "        \"mouse2\",\n",
    "        \"Sperm_hg\",\n",
    "        \"Sperm_Liu\",\n",
    "        \"Sperm_Zheng\",\n",
    "        \"GM\",\n",
    "        \"Sperm_X_bearing\",\n",
    "        \"Sperm_Y_bearing\",\n",
    "        \"mESC\",\n",
    "        \"Tan2018\",\n",
    "        \"RS\"\n",
    "    ]\n",
    "    arg_targetses = { # batch_name : target df\n",
    "        \"Sperm\" : targets.loc[Sperm_samples],\n",
    "        \"mouse1\" : targets.loc[mouse1_samples],\n",
    "        \"mouse2\" : targets.loc[mouse2_samples],\n",
    "        \"Sperm_hg\" : targets.loc[Sperm_hg_samples],\n",
    "        \"Sperm_Liu\" : targets.loc[Sperm_Liu_samples],\n",
    "        \"Sperm_Zheng\" : targets.loc[Sperm_Zheng_samples],\n",
    "        \"GM\" : targets.loc[GM_samples],\n",
    "        \"Sperm_X_bearing\" : targets.loc[Sperm_X_bearing_samples],\n",
    "        \"Sperm_Y_bearing\" : targets.loc[Sperm_Y_bearing_samples],\n",
    "        \"mESC\" : targets.loc[mESC_samples],\n",
    "        \"Tan2018\" : targets.loc[Tan2018_samples],\n",
    "        \"RS\" : targets.loc[RS_samples]\n",
    "    }\n",
    "    arg_featureses = { # batch_name : feature df\n",
    "        \"Sperm\" : pd.read_csv(h.ddir / \"Sperm.mm10.features.csv.gz\", index_col = [0,1]),\n",
    "        \"mouse1\" : pd.read_csv(h.ddir / \"Sperm.mm10.features.csv.gz\", index_col = [0,1]),\n",
    "        \"mouse2\" : pd.read_csv(h.ddir / \"Sperm.mm10.features.csv.gz\", index_col = [0,1]),\n",
    "        \"Sperm_hg\" : pd.read_csv(h.ddir / \"Sperm_hg.GRCh38.features.csv.gz\", index_col = [0,1]),\n",
    "        \"Sperm_Liu\" : pd.read_csv(h.ddir / \"Sperm_hg.GRCh38.features.csv.gz\", index_col = [0,1]),\n",
    "        \"Sperm_Zheng\" : pd.read_csv(h.ddir / \"Sperm_hg.GRCh38.features.csv.gz\", index_col = [0,1]),\n",
    "        \"GM\" : pd.read_csv(h.ddir / \"hg19_dip.features.csv.gz\", index_col = [0,1]),\n",
    "        \"Sperm_X_bearing\" : pd.read_csv(h.ddir / \"mm10.features.csv.gz\", index_col = [0,1]),\n",
    "        \"Sperm_Y_bearing\" : pd.read_csv(h.ddir / \"mm10.features.csv.gz\", index_col = [0,1]),\n",
    "        \"mESC\" : pd.read_csv(h.ddir / \"mm10_dip.features.csv.gz\", index_col = [0,1]),\n",
    "        \"Tan2018\" : pd.read_csv(h.ddir / \"GRCh38_dip.features.csv.gz\", index_col = [0,1]),\n",
    "        \"RS\" : pd.read_csv(h.ddir / \"mm10.features.csv.gz\", index_col = [0,1])\n",
    "    }\n",
    "    arg_aggses = {\n",
    "        \"Sperm\" : load_pickle(h.ddir / \"Sperm.mm10.aggs.pkl\"),\n",
    "        \"mouse1\" : load_pickle(h.ddir / \"Sperm.mm10.aggs.pkl\"),\n",
    "        \"mouse2\" : load_pickle(h.ddir / \"Sperm.mm10.aggs.pkl\"),\n",
    "        \"Sperm_hg\" : load_pickle(h.ddir / \"Sperm_hg.GRCh38.aggs.pkl\"),\n",
    "        \"Sperm_Liu\" : load_pickle(h.ddir / \"Sperm_hg.GRCh38.aggs.pkl\"),\n",
    "        \"Sperm_Zheng\" : load_pickle(h.ddir / \"Sperm_hg.GRCh38.aggs.pkl\"),\n",
    "        \"GM\" : load_pickle(h.ddir / \"hg19_dip.aggs.pkl\"),\n",
    "        \"Sperm_X_bearing\" : load_pickle(h.ddir / \"mm10.aggs.pkl\"),\n",
    "        \"Sperm_Y_bearing\" : load_pickle(h.ddir / \"mm10.aggs.pkl\"),\n",
    "        \"mESC\" : load_pickle(h.ddir / \"mm10_dip.aggs.pkl\"),\n",
    "        \"Tan2018\" : load_pickle(h.ddir / \"GRCh38_dip.aggs.pkl\"),\n",
    "        \"RS\" : load_pickle(h.ddir / \"mm10.aggs.pkl\")\n",
    "    }\n",
    "elif h.version == \"2\":\n",
    "    batches = [\"Sperm\",\"Sperm_hg\",\"mESC\",\"Tan2018\"]\n",
    "    arg_sampleses = {\n",
    "        \"Sperm\" : Sperm_samples,\n",
    "        \"Sperm_hg\" : Sperm_hg_samples,\n",
    "        \"mESC\" : mESC_samples,\n",
    "        \"Tan2018\" : Tan2018_samples\n",
    "    }\n",
    "    arg_targetses = { # batch_name : target df\n",
    "        \"Sperm\" : targets.loc[Sperm_samples],\n",
    "        #\"mouse1\" : targets.loc[mouse1_samples],\n",
    "        #\"mouse2\" : targets.loc[mouse2_samples],\n",
    "        \"Sperm_hg\" : targets.loc[Sperm_hg_samples],\n",
    "        #\"Sperm_Liu\" : targets.loc[Sperm_Liu_samples],\n",
    "        #\"Sperm_Zheng\" : targets.loc[Sperm_Zheng_samples],\n",
    "        #\"GM\" : targets.loc[GM_samples],\n",
    "        #\"Sperm_X_bearing\" : targets.loc[Sperm_X_bearing_samples],\n",
    "        #\"Sperm_Y_bearing\" : targets.loc[Sperm_Y_bearing_samples],\n",
    "        \"mESC\" : targets.loc[mESC_samples],\n",
    "        \"Tan2018\" : targets.loc[Tan2018_samples],\n",
    "        #\"RS\" : targets.loc[RS_samples]\n",
    "    }\n",
    "    arg_featureses = { # batch_name : feature df\n",
    "        \"Sperm\" : pd.read_csv(h.ddir / \"mm10.features.csv.gz\", index_col = [0,1]),\n",
    "        #\"mouse1\" : pd.read_csv(h.ddir / \"Sperm.mm10.features.csv.gz\", index_col = [0,1]),\n",
    "        #\"mouse2\" : pd.read_csv(h.ddir / \"Sperm.mm10.features.csv.gz\", index_col = [0,1]),\n",
    "        \"Sperm_hg\" : pd.read_csv(h.ddir / \"GRCh38.features.csv.gz\", index_col = [0,1]),\n",
    "        #\"Sperm_Liu\" : pd.read_csv(h.ddir / \"Sperm_hg.GRCh38.features.csv.gz\", index_col = [0,1]),\n",
    "        #\"Sperm_Zheng\" : pd.read_csv(h.ddir / \"Sperm_hg.GRCh38.features.csv.gz\", index_col = [0,1]),\n",
    "        #\"GM\" : pd.read_csv(h.ddir / \"hg19_dip.features.csv.gz\", index_col = [0,1]),\n",
    "        #\"Sperm_X_bearing\" : pd.read_csv(h.ddir / \"mm10.features.csv.gz\", index_col = [0,1]),\n",
    "        #\"Sperm_Y_bearing\" : pd.read_csv(h.ddir / \"mm10.features.csv.gz\", index_col = [0,1]),\n",
    "        \"mESC\" : pd.read_csv(h.ddir / \"mm10_dip.features.csv.gz\", index_col = [0,1]),\n",
    "        \"Tan2018\" : pd.read_csv(h.ddir / \"GRCh38_dip.features.csv.gz\", index_col = [0,1]),\n",
    "        #\"RS\" : pd.read_csv(h.ddir / \"mm10.features.csv.gz\", index_col = [0,1])\n",
    "    }\n",
    "    arg_aggses = {\n",
    "        \"Sperm\" : load_pickle(h.ddir / \"mm10.aggs.pkl\"),\n",
    "        #\"mouse1\" : load_pickle(h.ddir / \"Sperm.mm10.aggs.pkl\"),\n",
    "        #\"mouse2\" : load_pickle(h.ddir / \"Sperm.mm10.aggs.pkl\"),\n",
    "        \"Sperm_hg\" : load_pickle(h.ddir / \"GRCh38.aggs.pkl\"),\n",
    "        #\"Sperm_Liu\" : load_pickle(h.ddir / \"Sperm_hg.GRCh38.aggs.pkl\"),\n",
    "        #\"Sperm_Zheng\" : load_pickle(h.ddir / \"Sperm_hg.GRCh38.aggs.pkl\"),\n",
    "        #\"GM\" : load_pickle(h.ddir / \"hg19_dip.aggs.pkl\"),\n",
    "        #\"Sperm_X_bearing\" : load_pickle(h.ddir / \"mm10.aggs.pkl\"),\n",
    "        #\"Sperm_Y_bearing\" : load_pickle(h.ddir / \"mm10.aggs.pkl\"),\n",
    "        \"mESC\" : load_pickle(h.ddir / \"mm10_dip.aggs.pkl\"),\n",
    "        \"Tan2018\" : load_pickle(h.ddir / \"GRCh38_dip.aggs.pkl\"),\n",
    "        #\"RS\" : load_pickle(h.ddir / \"mm10.aggs.pkl\")\n",
    "    }\n",
    "\n",
    "arg_bfs_lr_ss_files = { # single slice\n",
    "    batch : (h.ddir / batch).with_suffix(\".lr_ss.bfs.pkl\")\n",
    "    for batch in batches\n",
    "}\n",
    "\n",
    "arg_bfs_dv_ss_files = {\n",
    "    batch : (h.ddir / batch).with_suffix(\".dv_ss.bfs.pkl\")\n",
    "    for batch in batches\n",
    "}\n",
    "\n",
    "arg_bfs_lr_ft_files = { # full thickness\n",
    "    batch : (h.ddir / batch).with_suffix(\".lr_ft.bfs.pkl\")\n",
    "    for batch in batches\n",
    "}\n",
    "\n",
    "arg_bfs_dv_ft_files = {\n",
    "    batch : (h.ddir / batch).with_suffix(\".dv_ft.bfs.pkl\")\n",
    "    for batch in batches\n",
    "}\n",
    "\n",
    "# 3-grouper\n",
    "arg_bfs_vx_files = {\n",
    "    batch : (h.ddir / batch).with_suffix(\".vx.bfs.h5\")\n",
    "    for batch in batches\n",
    "}\n",
    "\n",
    "arg_bfs_lr_cs_files = { # consecutive slice\n",
    "    batch : (h.ddir / batch).with_suffix(\".lr_cs.bfs.pkl\")\n",
    "    for batch in batches\n",
    "}\n",
    "\n",
    "arg_bfs_dv_cs_files = {\n",
    "    batch : (h.ddir / batch).with_suffix(\".dv_cs.bfs.pkl\")\n",
    "    for batch in batches\n",
    "}"
   ]
  },
  {
   "cell_type": "markdown",
   "metadata": {},
   "source": [
    "### Do the pileups"
   ]
  },
  {
   "cell_type": "markdown",
   "metadata": {},
   "source": [
    "3-grouper"
   ]
  },
  {
   "cell_type": "code",
   "execution_count": null,
   "metadata": {},
   "outputs": [],
   "source": [
    "Fin = False\n",
    "Force = False\n",
    "outfiles = arg_bfs_vx_files\n",
    "def process_batch(batch, **kwargs):\n",
    "    samples, targets, bf_file = \\\n",
    "        arg_sampleses[batch], arg_targetses[batch], outfiles[batch]\n",
    "    if bf_file.exists() and not Force and  not bf_file.is_dir():\n",
    "        print(f\"{bf_file} exists, skipping\")\n",
    "        return\n",
    "    bfs = pileup_bf_mt(\n",
    "        samples,\n",
    "        primary_views,\n",
    "        targets,\n",
    "        meta,\n",
    "        features = arg_featureses[batch],\n",
    "        outfile = bf_file,\n",
    "        cache_dir = Path(bf_file.with_suffix(\".cache\")),\n",
    "        step = 2,\n",
    "        grouping = [\"lr\",\"ht\",\"dv\"],\n",
    "        agg = arg_aggses[batch],\n",
    "        min_particles={\"density\" : 0},\n",
    "        **kwargs\n",
    "    )\n",
    "    print(f\"{bf_file} done\")\n",
    "    return bfs"
   ]
  },
  {
   "cell_type": "markdown",
   "metadata": {},
   "source": [
    "human sperm"
   ]
  },
  {
   "cell_type": "code",
   "execution_count": null,
   "metadata": {},
   "outputs": [],
   "source": [
    "scAB_dir = \"/shareb/ychi/repo/sperm_struct/ds_pipeline/smk2/scAB\"\n",
    "scIS_dir = \"/shareb/ychi/repo/sperm_struct/ds_pipeline/smk2/scIS_schicluster\"\n",
    "\n",
    "#arg_aggses[\"Sperm_hg\"].pop(\"scAB_dist\")\n",
    "arg_aggses[\"Sperm_hg\"].update({\"scAB_dist\" : (\"scAB\",\"mean\")})\n",
    "arg_aggses[\"Sperm_hg\"].update({\"scIS_dist\" : (\"scIS\",\"mean\")})\n",
    "arg_aggses[\"Sperm_hg\"].update({\"scAB_rank_normed_dist\" : (\"scAB_rank_normed\",\"mean\")})\n",
    "process_batch(\n",
    "    \"Sperm_hg\",\n",
    "    pb_features = {\n",
    "        \"scAB\" : dict(zip(\n",
    "            arg_sampleses[\"Sperm_hg\"],\n",
    "            [str(scAB_dir+f\"/{sample}.20k.scAB.csv.gz\") for sample in arg_sampleses[\"Sperm_hg\"]]\n",
    "            )),\n",
    "        \"scIS\" : dict(zip(\n",
    "            arg_sampleses[\"Sperm_hg\"],\n",
    "            [str(scIS_dir+f\"/{sample}_scIS.tsv.gz\") for sample in arg_sampleses[\"Sperm_hg\"]]\n",
    "            )),\n",
    "        \"scAB_rank_normed\" : dict(zip(\n",
    "            arg_sampleses[\"Sperm_hg\"],\n",
    "            [str(scAB_dir+f\"/{sample}.20k.scAB.rank_norm.csv.gz\") for sample in arg_sampleses[\"Sperm_hg\"]]\n",
    "            ))\n",
    "    },\n",
    "    # pb_readers = {\n",
    "    #     \"scAB\" : lambda filepath : pd.read_table(\n",
    "    #         filepath,\n",
    "    #         names = [\"chr\",\"pos\",\"scAB\"],\n",
    "    #         index_col = [0,1]\n",
    "    #         )[\"scAB\"]\n",
    "    # },\n",
    "    n_threads = 16\n",
    "    )"
   ]
  },
  {
   "cell_type": "markdown",
   "metadata": {},
   "source": [
    "human autosomes"
   ]
  },
  {
   "cell_type": "code",
   "execution_count": null,
   "metadata": {},
   "outputs": [],
   "source": [
    "scAB_dir = \"/shareb/ychi/repo/sperm_struct/ds_pipeline/smk2/scAB\"\n",
    "scIS_dir = \"/shareb/ychi/repo/sperm_struct/ds_pipeline/smk2/scIS_schicluster\"\n",
    "#arg_aggses[\"Sperm_hg\"].pop(\"scAB_dist\")\n",
    "arg_aggses[\"Sperm_hg\"].update({\"scAB_dist\" : (\"scAB\",\"mean\")})\n",
    "arg_aggses[\"Sperm_hg\"].update({\"scIS_dist\" : (\"scIS\",\"mean\")})\n",
    "\n",
    "batch = \"Sperm_hg\"\n",
    "outfile = h.ddir / \"Sperm_hg_autosomes.vx.bfs.h5\"\n",
    "samples, targets, bf_file = \\\n",
    "    arg_sampleses[batch], arg_targetses[batch], outfile\n",
    "if bf_file.exists() and not Force and  not bf_file.is_dir():\n",
    "    print(f\"{bf_file} exists, skipping\")\n",
    "else:\n",
    "    bfs = pileup_bf_mt(\n",
    "        samples,\n",
    "        primary_views,\n",
    "        targets,\n",
    "        meta,\n",
    "        features = arg_featureses[batch],\n",
    "        outfile = bf_file,\n",
    "        cache_dir = Path(bf_file.with_suffix(\".cache\")),\n",
    "        step = 2,\n",
    "        grouping = [\"lr\",\"ht\",\"dv\"],\n",
    "        agg = arg_aggses[batch],\n",
    "        sub = 'chr not in [\"chrX\",\"chrY\"]',\n",
    "        min_particles={\"density\" : 0},\n",
    "        pb_features = {\n",
    "            \"scAB\" : dict(zip(\n",
    "                arg_sampleses[\"Sperm_hg\"],\n",
    "                [str(scAB_dir+f\"/{sample}.20k.scAB.csv.gz\") for sample in arg_sampleses[\"Sperm_hg\"]]\n",
    "                )),\n",
    "            \"scIS\" : dict(zip(\n",
    "                arg_sampleses[\"Sperm_hg\"],\n",
    "                [str(scIS_dir+f\"/{sample}_scIS.tsv.gz\") for sample in arg_sampleses[\"Sperm_hg\"]]\n",
    "                ))\n",
    "        },\n",
    "        n_threads = 16\n",
    "    )\n",
    "    print(f\"{bf_file} done\")"
   ]
  },
  {
   "cell_type": "markdown",
   "metadata": {},
   "source": [
    "human 1-cube"
   ]
  },
  {
   "cell_type": "code",
   "execution_count": 8,
   "metadata": {},
   "outputs": [
    {
     "name": "stderr",
     "output_type": "stream",
     "text": [
      "Processing cells: 100%|██████████| 11/11 [00:25<00:00,  2.36s/it]\n"
     ]
    },
    {
     "name": "stdout",
     "output_type": "stream",
     "text": [
      "Combining results...\n"
     ]
    },
    {
     "name": "stderr",
     "output_type": "stream",
     "text": [
      "Writing to file: 100%|██████████| 11/11 [01:01<00:00,  5.56s/it]\n"
     ]
    },
    {
     "name": "stdout",
     "output_type": "stream",
     "text": [
      "Indexing...\n",
      "All done.\n",
      "/shareb/ychi/repo/sperm_struct/notebooks/data2/Sperm_hg_1cube.vx.bfs.h5 done\n"
     ]
    }
   ],
   "source": [
    "Force=True\n",
    "\n",
    "scAB_dir = \"/shareb/ychi/repo/sperm_struct/ds_pipeline/smk2/scAB\"\n",
    "scIS_dir = \"/shareb/ychi/repo/sperm_struct/ds_pipeline/smk2/scIS_schicluster\"\n",
    "sc_intermingle_dir = \"/shareb/ychi/repo/sperm_struct/ds_pipeline/smk2/intermingle\"\n",
    "#arg_aggses[\"Sperm_hg\"].pop(\"scAB_dist\")\n",
    "arg_aggses[\"Sperm_hg\"].update({\"scAB_dist\" : (\"scAB\",\"mean\")})\n",
    "arg_aggses[\"Sperm_hg\"].update({\"scIS_dist\" : (\"scIS\",\"mean\")})\n",
    "arg_aggses[\"Sperm_hg\"].update({\"sum_CpG\" : (\"CpG\", \"sum\")})\n",
    "arg_aggses[\"Sperm_hg\"].update({\"scAB_rank_normed_dist\" : (\"scAB_rank_normed\",\"mean\")})\n",
    "arg_aggses[\"Sperm_hg\"].update({\"sum_scAB_rank_normed\" : (\"scAB_rank_normed\",\"sum\")})\n",
    "arg_aggses[\"Sperm_hg\"].update({\"mean_intermingle\" : (\"sc_intermingle\",\"mean\")})\n",
    "\n",
    "batch = \"Sperm_hg\"\n",
    "outfile = h.ddir / \"Sperm_hg_1cube.vx.bfs.h5\"\n",
    "samples, targets, bf_file = \\\n",
    "    arg_sampleses[batch], arg_targetses[batch], outfile\n",
    "samples = [\"HuS07_HuS1L514\", \"HuS02_HuSZ049\", \"HuS02_HuSZ194\", \"HuS02_HuSZ350\", \"HuS02_HuSZ236\",\n",
    "    \"HuS03_HuSZ437\", \"HuS02_HuSZ069\", \"HuS03_HuSZ452\", \"HuS02_HuSZ352\",\"HuS06_HuS1L113\",\"HuS02_HuSZ330\"]\n",
    "if bf_file.exists() and not Force and  not bf_file.is_dir():\n",
    "    print(f\"{bf_file} exists, skipping\")\n",
    "else:\n",
    "    bfs = pileup_bf_mt(\n",
    "        samples,\n",
    "        primary_views,\n",
    "        targets,\n",
    "        meta,\n",
    "        features = arg_featureses[batch],\n",
    "        outfile = bf_file,\n",
    "        cache_dir = Path(bf_file.with_suffix(\".cache\")),\n",
    "        step = 1,\n",
    "        grouping = [\"lr\",\"ht\",\"dv\"],\n",
    "        agg = arg_aggses[batch],\n",
    "        #sub = 'chr not in [\"chrX\",\"chrY\"]',\n",
    "        min_particles={\"density\" : 0},\n",
    "        global_min_particle = 1,\n",
    "        pb_features = {\n",
    "            \"scAB\" : dict(zip(\n",
    "                arg_sampleses[\"Sperm_hg\"],\n",
    "                [str(scAB_dir+f\"/{sample}.20k.scAB.csv.gz\") for sample in arg_sampleses[\"Sperm_hg\"]]\n",
    "                )),\n",
    "            \"scIS\" : dict(zip(\n",
    "                arg_sampleses[\"Sperm_hg\"],\n",
    "                [str(scIS_dir+f\"/{sample}_scIS.tsv.gz\") for sample in arg_sampleses[\"Sperm_hg\"]]\n",
    "                )),\n",
    "            \"scAB_rank_normed\" : dict(zip(\n",
    "                arg_sampleses[\"Sperm_hg\"],\n",
    "                [str(scAB_dir+f\"/{sample}.20k.scAB.rank_norm.csv.gz\") for sample in arg_sampleses[\"Sperm_hg\"]]\n",
    "                )),\n",
    "            \"sc_intermingle\" : dict(zip(\n",
    "                arg_sampleses[\"Sperm_hg\"],\n",
    "                [str(sc_intermingle_dir+f\"/{sample}.R3.multi_chrom_intermingling.ref.tsv.gz\") for sample in arg_sampleses[\"Sperm_hg\"]]\n",
    "                )),\n",
    "        },\n",
    "        n_threads = 16\n",
    "    )\n",
    "    print(f\"{bf_file} done\")\n",
    "\n",
    "Force = False"
   ]
  },
  {
   "cell_type": "code",
   "execution_count": null,
   "metadata": {},
   "outputs": [],
   "source": [
    "process_batch(\n",
    "    \"Tan2018\",\n",
    "    n_threads = 16,\n",
    "    global_min_particle = 0\n",
    "    )"
   ]
  },
  {
   "cell_type": "markdown",
   "metadata": {},
   "source": [
    "Tan2018 1-cube"
   ]
  },
  {
   "cell_type": "code",
   "execution_count": 9,
   "metadata": {},
   "outputs": [
    {
     "data": {
      "text/plain": [
       "('scAB_rank_normed', 'sum')"
      ]
     },
     "execution_count": 9,
     "metadata": {},
     "output_type": "execute_result"
    }
   ],
   "source": [
    "# arg_aggses[\"Tan2018\"].pop(\"scAB_rank_normed_dist\")\n",
    "arg_aggses[\"Tan2018\"].pop(\"sum_scAB_rank_normed\")"
   ]
  },
  {
   "cell_type": "code",
   "execution_count": 10,
   "metadata": {},
   "outputs": [
    {
     "name": "stderr",
     "output_type": "stream",
     "text": [
      "Processing cells:   0%|          | 0/14 [00:00<?, ?it/s]"
     ]
    },
    {
     "name": "stdout",
     "output_type": "stream",
     "text": [
      "Warning: particles outside of the binning range.\n",
      "Warning: particles outside of the binning range.\n",
      "Warning: particles outside of the binning range.\n",
      "Warning: particles outside of the binning range.\n",
      "Warning: particles outside of the binning range.\n",
      "Warning: particles outside of the binning range.\n",
      "Warning: particles outside of the binning range.\n",
      "Warning: particles outside of the binning range.\n",
      "Warning: particles outside of the binning range.\n"
     ]
    },
    {
     "name": "stderr",
     "output_type": "stream",
     "text": [
      "Processing cells: 100%|██████████| 14/14 [00:53<00:00,  3.81s/it]\n"
     ]
    },
    {
     "name": "stdout",
     "output_type": "stream",
     "text": [
      "Combining results...\n"
     ]
    },
    {
     "name": "stderr",
     "output_type": "stream",
     "text": [
      "Writing to file: 100%|██████████| 14/14 [01:21<00:00,  5.83s/it]\n"
     ]
    },
    {
     "name": "stdout",
     "output_type": "stream",
     "text": [
      "Indexing...\n",
      "All done.\n",
      "/shareb/ychi/repo/sperm_struct/notebooks/data2/Tan2018_1cube.vx.bfs.h5 done\n"
     ]
    }
   ],
   "source": [
    "Force=True\n",
    "\n",
    "scAB_dir = \"/shareb/ychi/repo/sperm_struct/ds_pipeline/smk2/scAB\"\n",
    "scIS_dir = \"/shareb/ychi/repo/sperm_struct/ds_pipeline/smk2/scIS_schicluster\"\n",
    "sc_intermingle_dir = \"/shareb/ychi/repo/sperm_struct/ds_pipeline/smk2/intermingle\"\n",
    "#arg_aggses[\"Tan2018\"].pop(\"scAB_dist\")\n",
    "arg_aggses[\"Tan2018\"].update({\"scAB_dist\" : (\"scAB\",\"mean\")})\n",
    "arg_aggses[\"Tan2018\"].update({\"scIS_dist\" : (\"scIS\",\"mean\")})\n",
    "arg_aggses[\"Tan2018\"].update({\"sum_CpG\" : (\"CpG\", \"sum\")})\n",
    "# arg_aggses[\"Tan2018\"].update({\"scAB_rank_normed_dist\" : (\"scAB_rank_normed\",\"mean\")})\n",
    "# arg_aggses[\"Tan2018\"].update({\"sum_scAB_rank_normed\" : (\"scAB_rank_normed\",\"sum\")})\n",
    "arg_aggses[\"Tan2018\"].update({\"mean_intermingle\" : (\"sc_intermingle\",\"mean\")})\n",
    "\n",
    "batch = \"Tan2018\"\n",
    "outfile = h.ddir / \"Tan2018_1cube.vx.bfs.h5\"\n",
    "samples, targets, bf_file = \\\n",
    "    arg_sampleses[batch], arg_targetses[batch], outfile\n",
    "if bf_file.exists() and not Force and  not bf_file.is_dir():\n",
    "    print(f\"{bf_file} exists, skipping\")\n",
    "else:\n",
    "    bfs = pileup_bf_mt(\n",
    "        samples,\n",
    "        primary_views,\n",
    "        targets,\n",
    "        meta,\n",
    "        features = arg_featureses[batch],\n",
    "        outfile = bf_file,\n",
    "        cache_dir = Path(bf_file.with_suffix(\".cache\")),\n",
    "        step = 1,\n",
    "        grouping = [\"lr\",\"ht\",\"dv\"],\n",
    "        agg = arg_aggses[batch],\n",
    "        #sub = 'chr not in [\"chrX\",\"chrY\"]',\n",
    "        min_particles={\"density\" : 0},\n",
    "        global_min_particle = 1,\n",
    "        pb_features = {\n",
    "            \"scAB\" : dict(zip(\n",
    "                arg_sampleses[\"Tan2018\"],\n",
    "                [str(scAB_dir+f\"/{sample}.20k.scAB.csv.gz\") for sample in arg_sampleses[\"Tan2018\"]]\n",
    "                )),\n",
    "            \"scIS\" : dict(zip(\n",
    "                arg_sampleses[\"Tan2018\"],\n",
    "                [str(scIS_dir+f\"/{sample}_scIS.tsv.gz\") for sample in arg_sampleses[\"Tan2018\"]]\n",
    "                )),\n",
    "            # \"scAB_rank_normed\" : dict(zip(\n",
    "            #     arg_sampleses[\"Tan2018\"],\n",
    "            #     [str(scAB_dir+f\"/{sample}.20k.scAB.rank_norm.csv.gz\") for sample in arg_sampleses[\"Tan2018\"]]\n",
    "            #     )),\n",
    "            \"sc_intermingle\" : dict(zip(\n",
    "                arg_sampleses[\"Tan2018\"],\n",
    "                [str(sc_intermingle_dir+f\"/{sample}.R3.multi_chrom_intermingling.ref.tsv.gz\") for sample in arg_sampleses[\"Tan2018\"]]\n",
    "                )),\n",
    "        },\n",
    "        n_threads = 16\n",
    "    )\n",
    "    print(f\"{bf_file} done\")\n",
    "\n",
    "Force = False"
   ]
  },
  {
   "cell_type": "markdown",
   "metadata": {},
   "source": [
    "mouse sperm"
   ]
  },
  {
   "cell_type": "code",
   "execution_count": null,
   "metadata": {},
   "outputs": [],
   "source": [
    "scAB_dir = \"/shareb/ychi/repo/sperm_struct/ds_pipeline/smk2/scAB\"\n",
    "scIS_dir = \"/shareb/ychi/repo/sperm_struct/ds_pipeline/smk2/scIS_schicluster\"\n",
    "#arg_aggses[\"Sperm_hg\"].pop(\"scAB_dist\")\n",
    "arg_aggses[\"Sperm\"].update({\"scAB_dist\" : (\"scAB\",\"mean\")})\n",
    "arg_aggses[\"Sperm\"].update({\"scIS_dist\" : (\"scIS\",\"mean\")})\n",
    "arg_aggses[\"Sperm\"].update({\"scAB_rank_normed_dist\" : (\"scAB_rank_normed\",\"mean\")})\n",
    "process_batch(\n",
    "    \"Sperm\",\n",
    "    pb_features = {\n",
    "        \"scAB\" : dict(zip(\n",
    "            arg_sampleses[\"Sperm\"],\n",
    "            [str(scAB_dir+f\"/{sample}.20k.scAB.csv.gz\") for sample in arg_sampleses[\"Sperm\"]]\n",
    "            )),\n",
    "        \"scIS\" : dict(zip(\n",
    "            arg_sampleses[\"Sperm\"],\n",
    "            [str(scIS_dir+f\"/{sample}_scIS.tsv.gz\") for sample in arg_sampleses[\"Sperm\"]]\n",
    "            )),\n",
    "        \"scAB_rank_normed\" : dict(zip(\n",
    "            arg_sampleses[\"Sperm\"],\n",
    "            [str(scAB_dir+f\"/{sample}.20k.scAB.rank_norm.csv.gz\") for sample in arg_sampleses[\"Sperm\"]]\n",
    "            ))\n",
    "    },\n",
    "    # pb_readers = {\n",
    "    #     \"scAB\" : lambda filepath : pd.read_table(\n",
    "    #         filepath,\n",
    "    #         names = [\"chr\",\"pos\",\"scAB\"],\n",
    "    #         index_col = [0,1]\n",
    "    #         )[\"scAB\"]\n",
    "    # },\n",
    "    n_threads = 16\n",
    "    )"
   ]
  },
  {
   "cell_type": "markdown",
   "metadata": {},
   "source": [
    "mouse autosomes"
   ]
  },
  {
   "cell_type": "code",
   "execution_count": null,
   "metadata": {},
   "outputs": [],
   "source": [
    "scAB_dir = \"/shareb/ychi/repo/sperm_struct/ds_pipeline/smk2/scAB\"\n",
    "scIS_dir = \"/shareb/ychi/repo/sperm_struct/ds_pipeline/smk2/scIS_schicluster\"\n",
    "arg_aggses[\"Sperm\"].update({\"scAB_dist\" : (\"scAB\",\"mean\")})\n",
    "arg_aggses[\"Sperm\"].update({\"scIS_dist\" : (\"scIS\",\"mean\")})\n",
    "batch = \"Sperm\"\n",
    "outfile = h.ddir / \"Sperm_autosomes.vx.bfs.h5\"\n",
    "samples, targets, bf_file = \\\n",
    "    arg_sampleses[batch], arg_targetses[batch], outfile\n",
    "if bf_file.exists() and not Force and  not bf_file.is_dir():\n",
    "    print(f\"{bf_file} exists, skipping\")\n",
    "else:\n",
    "    bfs = pileup_bf_mt(\n",
    "        samples,\n",
    "        primary_views,\n",
    "        targets,\n",
    "        meta,\n",
    "        features = arg_featureses[batch],\n",
    "        outfile = bf_file,\n",
    "        cache_dir = Path(bf_file.with_suffix(\".cache\")),\n",
    "        step = 2,\n",
    "        grouping = [\"lr\",\"ht\",\"dv\"],\n",
    "        agg = arg_aggses[batch],\n",
    "        sub = 'chr not in [\"chrX\",\"chrY\"]',\n",
    "        min_particles={\"density\" : 0},\n",
    "        pb_features = {\n",
    "            \"scAB\" : dict(zip(\n",
    "                arg_sampleses[\"Sperm\"],\n",
    "                [str(scAB_dir+f\"/{sample}.20k.scAB.csv.gz\") for sample in arg_sampleses[\"Sperm\"]]\n",
    "                )),\n",
    "            \"scIS\" : dict(zip(\n",
    "                arg_sampleses[\"Sperm\"],\n",
    "                [str(scIS_dir+f\"/{sample}_scIS.tsv.gz\") for sample in arg_sampleses[\"Sperm\"]]\n",
    "                ))\n",
    "        },\n",
    "        n_threads = 16\n",
    "    )\n",
    "    print(f\"{bf_file} done\")"
   ]
  },
  {
   "cell_type": "markdown",
   "metadata": {},
   "source": [
    "mouse sperm 1-cube"
   ]
  },
  {
   "cell_type": "code",
   "execution_count": 7,
   "metadata": {},
   "outputs": [
    {
     "name": "stderr",
     "output_type": "stream",
     "text": [
      "Processing cells: 100%|██████████| 10/10 [00:24<00:00,  2.42s/it]\n"
     ]
    },
    {
     "name": "stdout",
     "output_type": "stream",
     "text": [
      "Combining results...\n"
     ]
    },
    {
     "name": "stderr",
     "output_type": "stream",
     "text": [
      "Writing to file: 100%|██████████| 10/10 [00:47<00:00,  4.78s/it]\n"
     ]
    },
    {
     "name": "stdout",
     "output_type": "stream",
     "text": [
      "Indexing...\n",
      "All done.\n",
      "/shareb/ychi/repo/sperm_struct/notebooks/data2/Sperm_1cube.vx.bfs.h5 done\n"
     ]
    }
   ],
   "source": [
    "Force = True\n",
    "\n",
    "scAB_dir = \"/shareb/ychi/repo/sperm_struct/ds_pipeline/smk2/scAB\"\n",
    "scIS_dir = \"/shareb/ychi/repo/sperm_struct/ds_pipeline/smk2/scIS_schicluster\"\n",
    "sc_intermingle_dir = \"/shareb/ychi/repo/sperm_struct/ds_pipeline/smk2/intermingle\"\n",
    "#arg_aggses[\"Sperm_hg\"].pop(\"scAB_dist\")\n",
    "arg_aggses[\"Sperm\"].update({\"scAB_dist\" : (\"scAB\",\"mean\")})\n",
    "arg_aggses[\"Sperm\"].update({\"scIS_dist\" : (\"scIS\",\"mean\")})\n",
    "arg_aggses[\"Sperm\"].update({\"sum_CpG\" : (\"CpG\", \"sum\")})\n",
    "arg_aggses[\"Sperm\"].update({\"scAB_rank_normed_dist\" : (\"scAB_rank_normed\",\"mean\")})\n",
    "arg_aggses[\"Sperm\"].update({\"sum_scAB_rank_normed\" : (\"scAB_rank_normed\",\"sum\")})\n",
    "arg_aggses[\"Sperm\"].update({\"mean_intermingle\" : (\"sc_intermingle\",\"mean\")})\n",
    "\n",
    "batch = \"Sperm\"\n",
    "outfile = h.ddir / \"Sperm_1cube.vx.bfs.h5\"\n",
    "samples, targets, bf_file = \\\n",
    "    arg_sampleses[batch], arg_targetses[batch], outfile\n",
    "samples = [\"BJ8019\",\"BJ9057\",\"BJ8027\",\"BJ8029\",\"BJ8034\",\"BJ8039\",\"BJ8141\",\"BJ8174\",\"BJ9142\",\"BJ8041\"]\n",
    "if bf_file.exists() and not Force and  not bf_file.is_dir():\n",
    "    print(f\"{bf_file} exists, skipping\")\n",
    "else:\n",
    "    bfs = pileup_bf_mt(\n",
    "        samples,\n",
    "        primary_views,\n",
    "        targets,\n",
    "        meta,\n",
    "        features = arg_featureses[batch],\n",
    "        outfile = bf_file,\n",
    "        cache_dir = Path(bf_file.with_suffix(\".cache\")),\n",
    "        step = 1,\n",
    "        grouping = [\"lr\",\"ht\",\"dv\"],\n",
    "        agg = arg_aggses[batch],\n",
    "        #sub = 'chr not in [\"chrX\",\"chrY\"]',\n",
    "        min_particles={\"density\" : 0},\n",
    "        global_min_particle = 1,\n",
    "        pb_features = {\n",
    "            \"scAB\" : dict(zip(\n",
    "                arg_sampleses[\"Sperm\"],\n",
    "                [str(scAB_dir+f\"/{sample}.20k.scAB.csv.gz\") for sample in arg_sampleses[\"Sperm\"]]\n",
    "                )),\n",
    "            \"scIS\" : dict(zip(\n",
    "                arg_sampleses[\"Sperm\"],\n",
    "                [str(scIS_dir+f\"/{sample}_scIS.tsv.gz\") for sample in arg_sampleses[\"Sperm\"]]\n",
    "                )),\n",
    "            \"scAB_rank_normed\" : dict(zip(\n",
    "                arg_sampleses[\"Sperm\"],\n",
    "                [str(scAB_dir+f\"/{sample}.20k.scAB.rank_norm.csv.gz\") for sample in arg_sampleses[\"Sperm\"]]\n",
    "                )),\n",
    "            \"sc_intermingle\" : dict(zip(\n",
    "                arg_sampleses[\"Sperm\"],\n",
    "                [str(sc_intermingle_dir+f\"/{sample}.R3.multi_chrom_intermingling.ref.tsv.gz\") for sample in arg_sampleses[\"Sperm\"]]\n",
    "                )),\n",
    "        },\n",
    "        n_threads = 16\n",
    "    )\n",
    "    print(f\"{bf_file} done\")\n",
    "\n",
    "Force = False"
   ]
  },
  {
   "cell_type": "markdown",
   "metadata": {},
   "source": [
    "mESC 1-cubed"
   ]
  },
  {
   "cell_type": "code",
   "execution_count": 6,
   "metadata": {},
   "outputs": [
    {
     "name": "stderr",
     "output_type": "stream",
     "text": [
      "Processing cells:   0%|          | 0/46 [00:00<?, ?it/s]"
     ]
    },
    {
     "name": "stdout",
     "output_type": "stream",
     "text": [
      "Warning: particles outside of the binning range.\n",
      "Warning: particles outside of the binning range.\n",
      "Warning: particles outside of the binning range.\n",
      "Warning: particles outside of the binning range.\n",
      "Warning: particles outside of the binning range.\n",
      "Warning: particles outside of the binning range.\n",
      "Warning: particles outside of the binning range.\n",
      "Warning: particles outside of the binning range.\n"
     ]
    },
    {
     "name": "stderr",
     "output_type": "stream",
     "text": [
      "Processing cells:  20%|█▉        | 9/46 [01:05<01:18,  2.12s/it]"
     ]
    },
    {
     "name": "stdout",
     "output_type": "stream",
     "text": [
      "Warning: particles outside of the binning range.\n",
      "Warning: particles outside of the binning range.\n"
     ]
    },
    {
     "name": "stderr",
     "output_type": "stream",
     "text": [
      "Processing cells:  26%|██▌       | 12/46 [01:07<00:41,  1.22s/it]"
     ]
    },
    {
     "name": "stdout",
     "output_type": "stream",
     "text": [
      "Warning: particles outside of the binning range.\n",
      "Warning: particles outside of the binning range.\n"
     ]
    },
    {
     "name": "stderr",
     "output_type": "stream",
     "text": [
      "Processing cells:  35%|███▍      | 16/46 [01:10<00:26,  1.14it/s]"
     ]
    },
    {
     "name": "stdout",
     "output_type": "stream",
     "text": [
      "Warning: particles outside of the binning range.\n",
      "Warning: particles outside of the binning range.\n"
     ]
    },
    {
     "name": "stderr",
     "output_type": "stream",
     "text": [
      "Processing cells:  57%|█████▋    | 26/46 [02:00<00:28,  1.44s/it]"
     ]
    },
    {
     "name": "stdout",
     "output_type": "stream",
     "text": [
      "Warning: particles outside of the binning range.\n"
     ]
    },
    {
     "name": "stderr",
     "output_type": "stream",
     "text": [
      "Processing cells:  65%|██████▌   | 30/46 [02:03<00:11,  1.34it/s]"
     ]
    },
    {
     "name": "stdout",
     "output_type": "stream",
     "text": [
      "Warning: particles outside of the binning range.\n"
     ]
    },
    {
     "name": "stderr",
     "output_type": "stream",
     "text": [
      "Processing cells:  70%|██████▉   | 32/46 [02:05<00:13,  1.05it/s]"
     ]
    },
    {
     "name": "stdout",
     "output_type": "stream",
     "text": [
      "Warning: particles outside of the binning range.\n",
      "Warning: particles outside of the binning range.\n"
     ]
    },
    {
     "name": "stderr",
     "output_type": "stream",
     "text": [
      "Processing cells: 100%|██████████| 46/46 [02:49<00:00,  3.69s/it]\n"
     ]
    },
    {
     "name": "stdout",
     "output_type": "stream",
     "text": [
      "Combining results...\n"
     ]
    },
    {
     "name": "stderr",
     "output_type": "stream",
     "text": [
      "Writing to file: 100%|██████████| 46/46 [04:53<00:00,  6.38s/it]\n"
     ]
    },
    {
     "name": "stdout",
     "output_type": "stream",
     "text": [
      "Indexing...\n",
      "All done.\n",
      "/shareb/ychi/repo/sperm_struct/notebooks/data2/mESC_1cube.vx.bfs.h5 done\n"
     ]
    }
   ],
   "source": [
    "Force=True\n",
    "\n",
    "scAB_dir = \"/shareb/ychi/repo/sperm_struct/ds_pipeline/smk2/scAB\"\n",
    "scIS_dir = \"/shareb/ychi/repo/sperm_struct/ds_pipeline/smk2/scIS_schicluster\"\n",
    "arg_aggses[\"mESC\"].update({\"scAB_dist\" : (\"scAB\",\"mean\")})\n",
    "arg_aggses[\"mESC\"].update({\"scIS_dist\" : (\"scIS\",\"mean\")})\n",
    "arg_aggses[\"mESC\"].update({\"sum_CpG\" : (\"CpG\", \"sum\")})\n",
    "arg_aggses[\"mESC\"].update({\"scAB_rank_normed_dist\" : (\"scAB_rank_normed\",\"mean\")})\n",
    "arg_aggses[\"mESC\"].update({\"sum_scAB_rank_normed\" : (\"scAB_rank_normed\",\"sum\")})\n",
    "arg_aggses[\"mESC\"].update({\"mean_intermingle\" : (\"sc_intermingle\",\"mean\")})\n",
    "\n",
    "batch = \"mESC\"\n",
    "outfile = h.ddir / \"mESC_1cube.vx.bfs.h5\"\n",
    "samples, targets, bf_file = \\\n",
    "    arg_sampleses[batch], arg_targetses[batch], outfile\n",
    "#samples = [\"HuS07_HuS1L514\", \"HuS02_HuSZ049\", \"HuS02_HuSZ194\", \"HuS02_HuSZ350\", \"HuS02_HuSZ236\"]\n",
    "if bf_file.exists() and not Force and  not bf_file.is_dir():\n",
    "    print(f\"{bf_file} exists, skipping\")\n",
    "else:\n",
    "    bfs = pileup_bf_mt(\n",
    "        samples,\n",
    "        primary_views,\n",
    "        targets,\n",
    "        meta,\n",
    "        features = arg_featureses[batch],\n",
    "        outfile = bf_file,\n",
    "        cache_dir = Path(bf_file.with_suffix(\".cache\")),\n",
    "        step = 1,\n",
    "        grouping = [\"lr\",\"ht\",\"dv\"],\n",
    "        agg = arg_aggses[batch],\n",
    "        #sub = 'chr not in [\"chrX\",\"chrY\"]',\n",
    "        min_particles={\"density\" : 0},\n",
    "        global_min_particle = 1,\n",
    "        pb_features = {\n",
    "            \"scAB\" : dict(zip(\n",
    "                arg_sampleses[batch],\n",
    "                [str(scAB_dir+f\"/{sample}.20k.scAB.csv.gz\") for sample in arg_sampleses[batch]]\n",
    "                )),\n",
    "            \"scIS\" : dict(zip(\n",
    "                arg_sampleses[batch],\n",
    "                [str(scIS_dir+f\"/{sample}_scIS.tsv.gz\") for sample in arg_sampleses[batch]]\n",
    "                )),\n",
    "            \"scAB_rank_normed\" : dict(zip(\n",
    "                arg_sampleses[batch],\n",
    "                [str(scAB_dir+f\"/{sample}.20k.scAB.rank_norm.csv.gz\") for sample in arg_sampleses[batch]]\n",
    "                )),\n",
    "            \"sc_intermingle\" : dict(zip(\n",
    "                arg_sampleses[batch],\n",
    "                [str(sc_intermingle_dir+f\"/{sample}.R3.multi_chrom_intermingling.ref.tsv.gz\") for sample in arg_sampleses[batch]]\n",
    "                )),\n",
    "        },\n",
    "        n_threads = 16\n",
    "    )\n",
    "    print(f\"{bf_file} done\")\n",
    "\n",
    "Force = False"
   ]
  },
  {
   "cell_type": "code",
   "execution_count": null,
   "metadata": {},
   "outputs": [],
   "source": []
  },
  {
   "cell_type": "code",
   "execution_count": null,
   "metadata": {},
   "outputs": [],
   "source": [
    "process_batch(\"Sperm\")"
   ]
  },
  {
   "cell_type": "code",
   "execution_count": null,
   "metadata": {},
   "outputs": [],
   "source": [
    "batch = \"Sperm_hg\"\n",
    "samples = arg_sampleses[batch]\n",
    "\n",
    "pb_features = {\n",
    "    \"scAB\" : dict(zip(\n",
    "        arg_sampleses[\"Sperm_hg\"],\n",
    "        [scAB_dir+f\"/{sample}.20k.scAB.csv.gz\" for sample in arg_sampleses[\"Sperm_hg\"]]\n",
    "        ))\n",
    "}\n",
    "pb_readers = {\n",
    "    \"scAB\" : lambda filep : pd.read_table(\n",
    "        filep,\n",
    "        names = [\"chr\",\"pos\",\"scAB\"],\n",
    "        index_col = [0,1]\n",
    "        )[\"scAB\"]\n",
    "}\n",
    "agg = arg_aggses[batch]\n",
    "agg.update({\"scAB_dist\" : (\"scAB\",\"mean\")})\n"
   ]
  },
  {
   "cell_type": "code",
   "execution_count": null,
   "metadata": {},
   "outputs": [],
   "source": [
    "from lib.struct import pileup_bf_mt_task"
   ]
  },
  {
   "cell_type": "code",
   "execution_count": null,
   "metadata": {},
   "outputs": [],
   "source": [
    "pileup_bf_mt_task(\n",
    "    samples[0],\n",
    "    primary_views[samples[0]],\n",
    "    targets.loc[samples[0]],\n",
    "    meta.loc[samples[0],\"20k_g_struct1\"],\n",
    "    arg_featureses[batch],\n",
    "    \"test.parquet\",\n",
    "    agg = agg,\n",
    "    pb_features=pb_features,\n",
    "    pb_readers=pb_readers,\n",
    ")"
   ]
  },
  {
   "cell_type": "markdown",
   "metadata": {},
   "source": [
    "Single full thickness. See through lr axis (grouping by [ht, dv])."
   ]
  },
  {
   "cell_type": "code",
   "execution_count": null,
   "metadata": {},
   "outputs": [],
   "source": [
    "Fin = False\n",
    "Force = False\n",
    "outfiles = arg_bfs_lr_ft_files\n",
    "\n",
    "def process_batch(batch):\n",
    "    targets, bf_file = arg_targetses[batch], outfiles[batch]\n",
    "    if bf_file.exists() and not Force:\n",
    "        print(f\"{bf_file} exists, skipping\")\n",
    "        return\n",
    "    bfs = pileup_bf(\n",
    "        primary_views,\n",
    "        targets,\n",
    "        meta,\n",
    "        features = arg_featureses[batch],\n",
    "        agg = arg_aggses[batch],\n",
    "        sub = None,\n",
    "        grouping = [\"ht\", \"dv\"]\n",
    "    )\n",
    "    bfs = bfs.swaplevel(0,1,axis=1)\n",
    "    bfs.to_pickle(bf_file)\n",
    "    print(f\"{bf_file} done\")\n",
    "\n",
    "if not Fin:\n",
    "    with concurrent.futures.ProcessPoolExecutor(8) as executor:\n",
    "        executor.map(process_batch, arg_targetses)"
   ]
  },
  {
   "cell_type": "markdown",
   "metadata": {},
   "source": [
    "Single full thickness. See through dv axis (grouping by [ht, lr])."
   ]
  },
  {
   "cell_type": "code",
   "execution_count": null,
   "metadata": {},
   "outputs": [],
   "source": [
    "Fin = False\n",
    "Force = False\n",
    "outfiles = arg_bfs_dv_ft_files\n",
    "\n",
    "def process_batch(batch):\n",
    "    targets, bf_file = arg_targetses[batch], outfiles[batch]\n",
    "    if bf_file.exists() and not Force:\n",
    "        print(f\"{bf_file} exists, skipping\")\n",
    "        return\n",
    "    bfs = pileup_bf(\n",
    "        primary_views,\n",
    "        targets,\n",
    "        meta,\n",
    "        features = arg_featureses[batch],\n",
    "        agg = arg_aggses[batch],\n",
    "        sub = None,\n",
    "        grouping = [\"ht\", \"lr\"]\n",
    "    )\n",
    "    bfs = bfs.swaplevel(0,1,axis=1)\n",
    "    bfs.to_pickle(bf_file)\n",
    "    print(f\"{bf_file} done\")\n",
    "\n",
    "if not Fin:\n",
    "    with concurrent.futures.ProcessPoolExecutor(8) as executor:\n",
    "        executor.map(process_batch, arg_targetses)"
   ]
  },
  {
   "cell_type": "markdown",
   "metadata": {},
   "source": [
    "Single slice on lr axis."
   ]
  },
  {
   "cell_type": "code",
   "execution_count": null,
   "metadata": {},
   "outputs": [],
   "source": [
    "Fin = False\n",
    "Force = False\n",
    "outfiles = arg_bfs_lr_ss_files\n",
    "\n",
    "def process_batch(batch):\n",
    "    targets, bf_file = arg_targetses[batch], outfiles[batch]\n",
    "    if bf_file.exists() and not Force:\n",
    "        print(f\"{bf_file} exists, skipping\")\n",
    "        return\n",
    "    bfs = pileup_bf(\n",
    "        primary_views,\n",
    "        targets,\n",
    "        meta,\n",
    "        features = arg_featureses[batch],\n",
    "        agg = arg_aggses[batch],\n",
    "        sub = '(lr > -5) and (lr < 5)',\n",
    "        grouping = [\"ht\", \"dv\"]\n",
    "    )\n",
    "    bfs = bfs.swaplevel(0,1,axis=1)\n",
    "    bfs.to_pickle(bf_file)\n",
    "    print(f\"{bf_file} done\")\n",
    "\n",
    "if not Fin:\n",
    "    with concurrent.futures.ProcessPoolExecutor(8) as executor:\n",
    "        executor.map(process_batch, arg_targetses)"
   ]
  },
  {
   "cell_type": "markdown",
   "metadata": {},
   "source": [
    "Single slice on dv axis."
   ]
  },
  {
   "cell_type": "code",
   "execution_count": null,
   "metadata": {},
   "outputs": [],
   "source": [
    "Fin = False\n",
    "Force = False\n",
    "outfiles = arg_bfs_dv_ss_files\n",
    "\n",
    "def process_batch(batch):\n",
    "    targets, bf_file = arg_targetses[batch], outfiles[batch]\n",
    "    if bf_file.exists() and not Force:\n",
    "        print(f\"{bf_file} exists, skipping\")\n",
    "        return\n",
    "    bfs = pileup_bf(\n",
    "        primary_views,\n",
    "        targets,\n",
    "        meta,\n",
    "        features = arg_featureses[batch],\n",
    "        agg = arg_aggses[batch],\n",
    "        sub = '(dv > -5) and (dv < 5)',\n",
    "        grouping = [\"ht\", \"lr\"]\n",
    "    )\n",
    "    bfs = bfs.swaplevel(0,1,axis=1)\n",
    "    bfs.to_pickle(bf_file)\n",
    "    print(f\"{bf_file} done\")\n",
    "\n",
    "if not Fin:\n",
    "    with concurrent.futures.ProcessPoolExecutor(8) as executor:\n",
    "        executor.map(process_batch, arg_targetses)"
   ]
  },
  {
   "cell_type": "markdown",
   "metadata": {},
   "source": [
    "Consecutive cross section (in-sample parallel)"
   ]
  },
  {
   "cell_type": "code",
   "execution_count": null,
   "metadata": {},
   "outputs": [],
   "source": [
    "from lib.struct import consecutive_slice_pileup_bf_parallel\n",
    "Fin = False\n",
    "Force = False\n",
    "outfiles = arg_bfs_lr_cs_files\n",
    "def process_batch(batch):\n",
    "    targets, bf_file = arg_targetses[batch], outfiles[batch]\n",
    "    if bf_file.exists() and not Force and  not bf_file.is_dir():\n",
    "        print(f\"{bf_file} exists, skipping\")\n",
    "        return\n",
    "    bfs = consecutive_slice_pileup_bf_parallel(\n",
    "        primary_views,\n",
    "        targets,\n",
    "        meta,\n",
    "        features = arg_featureses[batch],\n",
    "        step = 2,\n",
    "        #step=4,\n",
    "        upper = 16,\n",
    "        #upper=20,\n",
    "        lower = -16,\n",
    "        #lower=-20,\n",
    "        axis = \"lr\",\n",
    "        agg = arg_aggses[batch],\n",
    "        min_particles={\"density\" : 0},\n",
    "        prefix = bf_file,\n",
    "        threads=4\n",
    "    )\n",
    "    print(f\"{bf_file} done\")\n",
    "    return 0\n",
    "    bfs = bfs.swaplevel(0,1,axis=1)\n",
    "    bfs.to_pickle(bf_file)\n",
    "    print(f\"{bf_file} done\")"
   ]
  },
  {
   "cell_type": "code",
   "execution_count": null,
   "metadata": {},
   "outputs": [],
   "source": [
    "if not Fin:\n",
    "    process_batch(\"Sperm_hg\")"
   ]
  },
  {
   "cell_type": "code",
   "execution_count": null,
   "metadata": {},
   "outputs": [],
   "source": [
    "if not Fin:\n",
    "    process_batch(\"Sperm\")"
   ]
  },
  {
   "cell_type": "markdown",
   "metadata": {},
   "source": [
    "Consecutive cross section (between-sample parallel)"
   ]
  },
  {
   "cell_type": "code",
   "execution_count": null,
   "metadata": {},
   "outputs": [],
   "source": [
    "Fin = True\n",
    "Force = False\n",
    "outfiles = arg_bfs_lr_cs_files\n",
    "\n",
    "def process_batch(batch):\n",
    "    targets, bf_file = arg_targetses[batch], outfiles[batch]\n",
    "    if bf_file.exists() and not Force:\n",
    "        print(f\"{bf_file} exists, skipping\")\n",
    "        return\n",
    "    bfs = consecutive_slice_pileup_bf(\n",
    "        primary_views,\n",
    "        targets,\n",
    "        meta,\n",
    "        features = arg_featureses[batch],\n",
    "        #step = 2,\n",
    "        step=4,\n",
    "        #upper = 16,\n",
    "        upper=20,\n",
    "        #lower = -16,\n",
    "        lower=-20,\n",
    "        axis = \"lr\",\n",
    "        agg = arg_aggses[batch],\n",
    "        min_particles={\"density\" : 0}\n",
    "    )\n",
    "    bfs = bfs.swaplevel(0,1,axis=1)\n",
    "    bfs.to_pickle(bf_file)\n",
    "    print(f\"{bf_file} done\")\n",
    "\n",
    "if not Fin:\n",
    "    with concurrent.futures.ProcessPoolExecutor(12) as executor:\n",
    "        executor.map(process_batch, arg_targetses)"
   ]
  },
  {
   "cell_type": "markdown",
   "metadata": {},
   "source": [
    "Consecutive ht-lr cross sections."
   ]
  },
  {
   "cell_type": "code",
   "execution_count": null,
   "metadata": {},
   "outputs": [],
   "source": [
    "Fin = True\n",
    "Force = False\n",
    "outfiles = arg_bfs_dv_cs_files\n",
    "\n",
    "def process_batch(batch):\n",
    "    targets, bf_file = arg_targetses[batch], outfiles[batch]\n",
    "    if bf_file.exists() and not Force:\n",
    "        print(f\"{bf_file} exists, skipping\")\n",
    "        return\n",
    "    bfs = consecutive_slice_pileup_bf(\n",
    "        primary_views,\n",
    "        targets,\n",
    "        meta,\n",
    "        features = arg_featureses[batch],\n",
    "        step = 2,\n",
    "        upper = 16,\n",
    "        lower = -16,\n",
    "        axis = \"dv\",\n",
    "        agg = arg_aggses[batch],\n",
    "        min_particles={\"density\" : 0}\n",
    "    )\n",
    "    bfs = bfs.swaplevel(0,1,axis=1)\n",
    "    bfs.to_pickle(bf_file)\n",
    "    print(f\"{bf_file} done\")\n",
    "\n",
    "if not Fin:\n",
    "    with concurrent.futures.ProcessPoolExecutor(12) as executor:\n",
    "        executor.map(process_batch, arg_targetses)"
   ]
  },
  {
   "cell_type": "markdown",
   "metadata": {},
   "source": [
    "Full voxels"
   ]
  },
  {
   "cell_type": "code",
   "execution_count": null,
   "metadata": {},
   "outputs": [],
   "source": [
    "subsets = [\"Sperm\",\"Sperm_hg\"]\n",
    "\n",
    "arg_bfs_voxel_files = {\n",
    "    batch : (h.ddir / batch).with_suffix(\".voxel.bfs.pkl\")\n",
    "    for batch in subsets\n",
    "}\n",
    "\n",
    "Fin = True\n",
    "Force = False\n",
    "outfiles = arg_bfs_voxel_files\n",
    "\n",
    "def process_batch(batch):\n",
    "    targets, bf_file = arg_targetses[batch], outfiles[batch]\n",
    "    print(bf_file)\n",
    "    if bf_file.exists() and not Force:\n",
    "        print(f\"{bf_file} exists, skipping\")\n",
    "        return\n",
    "    bfs = pileup_bf(\n",
    "        primary_views,\n",
    "        targets,\n",
    "        meta,\n",
    "        features = arg_featureses[batch],\n",
    "        agg = arg_aggses[batch],\n",
    "        grouping = [\"ht\",\"dv\",\"lr\"],\n",
    "        step=6\n",
    "    )\n",
    "    bfs = bfs.swaplevel(0,1,axis=1)\n",
    "    bfs.to_pickle(bf_file)\n",
    "    print(f\"{bf_file} done\")\n",
    "\n",
    "# if not Fin:\n",
    "#     with concurrent.futures.ProcessPoolExecutor(8) as executor:\n",
    "#         executor.map(process_batch, subsets)"
   ]
  },
  {
   "cell_type": "code",
   "execution_count": null,
   "metadata": {},
   "outputs": [],
   "source": [
    "#process_batch(\"Sperm_hg\")"
   ]
  },
  {
   "cell_type": "markdown",
   "metadata": {},
   "source": []
  }
 ],
 "metadata": {
  "kernelspec": {
   "display_name": "Python 3",
   "language": "python",
   "name": "python3"
  },
  "language_info": {
   "codemirror_mode": {
    "name": "ipython",
    "version": 3
   },
   "file_extension": ".py",
   "mimetype": "text/x-python",
   "name": "python",
   "nbconvert_exporter": "python",
   "pygments_lexer": "ipython3",
   "version": "3.10.14"
  }
 },
 "nbformat": 4,
 "nbformat_minor": 2
}
