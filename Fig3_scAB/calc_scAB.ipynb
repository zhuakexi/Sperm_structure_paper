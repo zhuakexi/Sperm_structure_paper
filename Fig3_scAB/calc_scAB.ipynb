{
 "cells": [
  {
   "cell_type": "code",
   "execution_count": 1,
   "metadata": {},
   "outputs": [],
   "source": [
    "%run \"../head.py\""
   ]
  },
  {
   "cell_type": "code",
   "execution_count": 2,
   "metadata": {},
   "outputs": [],
   "source": [
    "import pandas as pd\n",
    "from hic_basic.binnify import GenomeIdeograph\n",
    "from hic_basic.sequence import count_CpG\n",
    "from hic_basic.hicio import read_meta, load_json\n",
    "from hic_basic.scAB_embedding import calc_color2, color2, s_color2\n",
    "from hires_utils.hires_io import parse_3dg"
   ]
  },
  {
   "cell_type": "markdown",
   "metadata": {},
   "source": [
    "### prepare reference track"
   ]
  },
  {
   "cell_type": "code",
   "execution_count": 3,
   "metadata": {},
   "outputs": [],
   "source": [
    "Fin = False\n",
    "Force = False\n",
    "\n",
    "# do human\n",
    "#binsize = 500000\n",
    "binsize = 50000\n",
    "bins = GenomeIdeograph(\n",
    "    \"GRCh38\"\n",
    ").bins(binsize, bed=True, order=True)\n",
    "\n",
    "outfile = h.ddir / f\"GRCh38.CpG.{h.binsize_suffix[binsize]}.tsv.gz\"\n",
    "if (not outfile.exists() or Force) and (not Fin):\n",
    "    CpG = count_CpG(\n",
    "        bins,\n",
    "        \"/share/Data/ychi/genome/GRCh38/raw/GRCh38.primary_assembly.genome.fa\"\n",
    "    )\n",
    "    CpG.to_csv(\n",
    "        outfile,\n",
    "        index=False,\n",
    "        header=False,\n",
    "        sep=\"\\t\"\n",
    "        )\n",
    "# do mouse\n",
    "bins = GenomeIdeograph(\n",
    "    \"mm10\"\n",
    ").bins(binsize, bed=True, order=True)\n",
    "\n",
    "outfile = h.ddir / f\"mm10.CpG.{h.binsize_suffix[binsize]}.tsv.gz\"\n",
    "if (not outfile.exists() or Force) and (not Fin):\n",
    "    CpG = count_CpG(\n",
    "        bins,\n",
    "        \"/share/Data/ychi/genome/GRCm38/raw/mm10.fa\"\n",
    "    )\n",
    "    CpG.to_csv(\n",
    "        outfile,\n",
    "        index=False,\n",
    "        header=False,\n",
    "        sep=\"\\t\"\n",
    "        )"
   ]
  },
  {
   "cell_type": "code",
   "execution_count": 3,
   "metadata": {},
   "outputs": [],
   "source": [
    "if h.version in [\"0\",\"1\"]:\n",
    "    meta = read_meta(h.base / \"notebooks/A_meta/meta/All.meta.csv.gz\")\n",
    "elif h.version == \"2\":\n",
    "    meta = read_meta(h.base / \"notebooks/A_meta/meta/All_formal_noPAR.meta.csv.gz\")\n",
    "    #meta = read_meta(h.base / \"notebooks/A_meta/meta/All_formal.meta.csv.gz\")\n",
    "    #meta = read_meta(h.fig1 / \"A_meta/meta/All_sp_formal.meta.csv.gz\")\n",
    "\n",
    "Sperm_ga = load_json(\n",
    "    h.fig1 / f\"Fig1S_structure_quality/Sperm_ga.v{h.version}.json\"\n",
    ")\n",
    "Sperm_hg_ga = load_json(\n",
    "    h.fig1 / f\"Fig1S_structure_quality/Sperm_hg_ga.v{h.version}.json\"\n",
    ")\n",
    "mESC_gs = load_json(\n",
    "    h.fig1 / f\"Fig1S_tech_analysis/mESC_samples_with_structure.v{h.version}.json\"\n",
    ")\n",
    "Tan2018_gs = load_json(\n",
    "    h.fig1 / f\"Fig1S_tech_analysis/Tan2018_samples_with_structure.v{h.version}.json\"\n",
    ")\n",
    "RS_meta = read_meta(\n",
    "    h.base / \"ds_pipeline\" / \"smk\" / \"config\" / \"RS.gs.sample_table.csv\"\n",
    ")\n",
    "RS_gs = RS_meta.index.tolist()\n",
    "\n",
    "#binsize = 500000\n",
    "binsizes = [20000, 50000, 200000, 500000]\n",
    "e_scAB_args = {}\n",
    "for binsize in binsizes:\n",
    "    scAB_args = {\n",
    "        f\"Tan2018_{h.binsize_suffix[binsize]}\" : {\n",
    "            \"meta\" : meta.loc[Tan2018_gs],\n",
    "            \"binsize\" : binsize,\n",
    "            \"ref\" : pd.read_table(\n",
    "                h.ddir / f\"GRCh38.CpG.{h.binsize_suffix[binsize]}.tsv.gz\",\n",
    "                names = [\"chrom\",\"start\",\"end\",\"CpG\"]\n",
    "                ),\n",
    "            \"outfile\" : h.ddir / f\"Tan2018_{h.binsize_suffix[binsize]}.color2.parquet.gz\",\n",
    "        },\n",
    "        f\"mESC_{h.binsize_suffix[binsize]}\" : {\n",
    "            \"meta\" : meta.loc[mESC_gs],\n",
    "            \"binsize\" : binsize,\n",
    "            \"ref\" : pd.read_table(\n",
    "                h.ddir / f\"mm10.CpG.{h.binsize_suffix[binsize]}.tsv.gz\",\n",
    "                names = [\"chrom\",\"start\",\"end\",\"CpG\"]\n",
    "                ),\n",
    "            \"outfile\" : h.ddir / f\"mESC_{h.binsize_suffix[binsize]}.color2.parquet.gz\",\n",
    "        },\n",
    "        f\"Sperm_{h.binsize_suffix[binsize]}\" : {\n",
    "            \"meta\" : meta.loc[Sperm_ga],\n",
    "            \"binsize\" : binsize,\n",
    "            \"ref\" : pd.read_table(\n",
    "                h.ddir / f\"mm10.CpG.{h.binsize_suffix[binsize]}.tsv.gz\",\n",
    "                names = [\"chrom\",\"start\",\"end\",\"CpG\"]\n",
    "                ),\n",
    "            \"outfile\" : h.ddir / f\"Sperm_{h.binsize_suffix[binsize]}.color2.parquet.gz\",\n",
    "        },\n",
    "        f\"Sperm_hg_{h.binsize_suffix[binsize]}\" : {\n",
    "            \"meta\" : meta.loc[Sperm_hg_ga],\n",
    "            \"binsize\" : binsize,\n",
    "            \"ref\" : pd.read_table(\n",
    "                h.ddir / f\"GRCh38.CpG.{h.binsize_suffix[binsize]}.tsv.gz\",\n",
    "                names = [\"chrom\",\"start\",\"end\",\"CpG\"]\n",
    "                ),\n",
    "            \"outfile\" : h.ddir / f\"Sperm_hg_{h.binsize_suffix[binsize]}.color2.parquet.gz\",\n",
    "        },\n",
    "        f\"RS_{h.binsize_suffix[binsize]}\" : {\n",
    "            \"meta\" : RS_meta,\n",
    "            \"binsize\" : binsize,\n",
    "            \"ref\" : pd.read_table(\n",
    "                h.ddir / f\"mm10.CpG.{h.binsize_suffix[binsize]}.tsv.gz\",\n",
    "                names = [\"chrom\",\"start\",\"end\",\"CpG\"]\n",
    "                ),\n",
    "            \"outfile\" : h.ddir / f\"RS_{h.binsize_suffix[binsize]}.color2.parquet.gz\"\n",
    "        }\n",
    "    }\n",
    "    e_scAB_args.update(scAB_args)"
   ]
  },
  {
   "cell_type": "markdown",
   "metadata": {},
   "source": [
    "### structure calculationg"
   ]
  },
  {
   "cell_type": "code",
   "execution_count": 5,
   "metadata": {},
   "outputs": [],
   "source": [
    "#HuS02_HuSZ032,HuS02_HuSZ028,HuS02_HuSZ025,HuS02_HuSZ022,HuS02_HuSZ018,HuS02_HuSZ015,HuS02_HuSZ012,HuS02_HuSZ010,HuS02_HuSZ009\n",
    "human_samples = [\"HuS02_HuSZ032\",\"HuS02_HuSZ028\",\"HuS02_HuSZ025\",\"HuS02_HuSZ022\",\"HuS02_HuSZ018\",\"HuS02_HuSZ015\",\"HuS02_HuSZ012\",\"HuS02_HuSZ010\",\"HuS02_HuSZ009\"]\n",
    "#BJ8019,BJ8001,BJ8024,BJ8009,BJ8012,BJ8014,BJ8015,BJ8022,BJ8023\n",
    "mouse_samples = [\"BJ8019\",\"BJ8001\",\"BJ8024\",\"BJ8009\",\"BJ8012\",\"BJ8014\",\"BJ8015\",\"BJ8022\",\"BJ8023\"]\n",
    "\n",
    "human_samples = Sperm_hg_ga\n",
    "mouse_samples = Sperm_ga"
   ]
  },
  {
   "cell_type": "code",
   "execution_count": 20,
   "metadata": {},
   "outputs": [],
   "source": [
    "def worker(sample, ref, force=False):\n",
    "    outfile = h.dsdir / \"scAB\" / f\"{sample}.20k.scAB.csv.gz\"\n",
    "    if outfile.exists() and not force:\n",
    "        return outfile\n",
    "    _3dg = parse_3dg(meta.loc[sample,\"20k_g_struct1\"])\n",
    "    #color_data = pd.read_table(h.ddir / \"mm10.CpG.20k.tsv.gz\", names = [\"chrom\",\"start\",\"end\",\"CpG\"])\n",
    "    color_data = pd.read_table(ref, names = [\"chrom\",\"start\",\"end\",\"CpG\"])\n",
    "    res = s_color2(\n",
    "        _3dg,\n",
    "        color_data,\n",
    "        n_jobs=4\n",
    "    )\n",
    "    res[[\"chr\",\"pos\",\"scAB\"]].to_csv(\n",
    "        outfile,\n",
    "        index=False,\n",
    "        header=False,\n",
    "        sep=\"\\t\",\n",
    "        )\n",
    "    return outfile"
   ]
  },
  {
   "cell_type": "code",
   "execution_count": null,
   "metadata": {},
   "outputs": [],
   "source": [
    "#worker(human_samples[0], h.ddir / \"GRCh38.CpG.20k.tsv.gz\")"
   ]
  },
  {
   "cell_type": "code",
   "execution_count": null,
   "metadata": {},
   "outputs": [],
   "source": [
    "from concurrent.futures import ProcessPoolExecutor\n",
    "with ProcessPoolExecutor(max_workers=4) as executor:\n",
    "    for sample in human_samples:\n",
    "        executor.submit(worker, sample, h.ddir / \"GRCh38.CpG.20k.tsv.gz\")\n",
    "    for sample in mouse_samples:\n",
    "        executor.submit(worker, sample, h.ddir / \"mm10.CpG.20k.tsv.gz\")"
   ]
  },
  {
   "cell_type": "code",
   "execution_count": 11,
   "metadata": {},
   "outputs": [],
   "source": [
    "with ProcessPoolExecutor(max_workers=4) as executor:\n",
    "    for sample in Tan2018_gs:\n",
    "        executor.submit(worker, sample, h.ddir / \"GRCh38.CpG.20k.tsv.gz\")"
   ]
  },
  {
   "cell_type": "code",
   "execution_count": 21,
   "metadata": {},
   "outputs": [],
   "source": [
    "with ProcessPoolExecutor(max_workers=4) as executor:\n",
    "    for sample in mESC_gs:\n",
    "        executor.submit(worker, sample, h.ddir / \"mm10.CpG.20k.tsv.gz\", force=True)"
   ]
  },
  {
   "cell_type": "markdown",
   "metadata": {},
   "source": [
    "agg into a h5 file"
   ]
  },
  {
   "cell_type": "code",
   "execution_count": 13,
   "metadata": {},
   "outputs": [],
   "source": [
    "from tqdm import tqdm"
   ]
  },
  {
   "cell_type": "code",
   "execution_count": 16,
   "metadata": {},
   "outputs": [
    {
     "name": "stderr",
     "output_type": "stream",
     "text": [
      "Writing samples: 100%|██████████| 988/988 [05:03<00:00,  3.25it/s]\n"
     ]
    },
    {
     "name": "stdout",
     "output_type": "stream",
     "text": [
      "Indexing...\n"
     ]
    }
   ],
   "source": [
    "with pd.HDFStore(h.ddir / \"Sperm_hg.scAB.20k.h5\",complevel=3,complib=\"zlib\",mode=\"w\") as store:\n",
    "    for sample in tqdm(human_samples, desc=\"Writing samples\"):\n",
    "        dat = pd.read_table(\n",
    "            h.dsdir / \"scAB\" / f\"{sample}.20k.scAB.csv.gz\",\n",
    "            sep=\"\\t\",\n",
    "            names=[\"chrom\",\"start\",\"scAB\"])\n",
    "        dat = dat.assign(sample_name = sample)\n",
    "        store.put(\n",
    "            \"main\",\n",
    "            dat, format=\"table\", index=False,\n",
    "            data_columns = [\"chrom\",\"start\"],\n",
    "            append = True,\n",
    "            min_itemsize = {\"sample_name\": 32}\n",
    "        )\n",
    "    print(\"Indexing...\")\n",
    "    store.create_table_index(\"main\",columns=[\"chrom\",\"start\"], optlevel=6)"
   ]
  },
  {
   "cell_type": "code",
   "execution_count": 17,
   "metadata": {},
   "outputs": [
    {
     "name": "stderr",
     "output_type": "stream",
     "text": [
      "Writing samples: 100%|██████████| 718/718 [03:19<00:00,  3.60it/s]\n"
     ]
    },
    {
     "name": "stdout",
     "output_type": "stream",
     "text": [
      "Indexing...\n"
     ]
    }
   ],
   "source": [
    "with pd.HDFStore(h.ddir / \"Sperm.scAB.20k.h5\",complevel=3,complib=\"zlib\",mode=\"w\") as store:\n",
    "    for sample in tqdm(mouse_samples, desc=\"Writing samples\"):\n",
    "        dat = pd.read_table(\n",
    "            h.dsdir / \"scAB\" / f\"{sample}.20k.scAB.csv.gz\",\n",
    "            sep=\"\\t\",\n",
    "            names=[\"chrom\",\"start\",\"scAB\"])\n",
    "        dat = dat.assign(sample_name = sample)\n",
    "        store.put(\n",
    "            \"main\",\n",
    "            dat, format=\"table\", index=False,\n",
    "            data_columns = [\"chrom\",\"start\"],\n",
    "            append = True,\n",
    "            min_itemsize = {\"sample_name\": 32}\n",
    "        )\n",
    "    print(\"Indexing...\")\n",
    "    store.create_table_index(\"main\",columns=[\"chrom\",\"start\"], optlevel=6)"
   ]
  },
  {
   "cell_type": "code",
   "execution_count": 14,
   "metadata": {},
   "outputs": [
    {
     "name": "stderr",
     "output_type": "stream",
     "text": [
      "Writing samples: 100%|██████████| 14/14 [00:08<00:00,  1.66it/s]\n"
     ]
    },
    {
     "name": "stdout",
     "output_type": "stream",
     "text": [
      "Indexing...\n"
     ]
    }
   ],
   "source": [
    "with pd.HDFStore(h.ddir / \"Tan2018.scAB.20k.h5\",complevel=3,complib=\"zlib\",mode=\"w\") as store:\n",
    "    for sample in tqdm(Tan2018_gs, desc=\"Writing samples\"):\n",
    "        dat = pd.read_table(\n",
    "            h.dsdir / \"scAB\" / f\"{sample}.20k.scAB.csv.gz\",\n",
    "            sep=\"\\t\",\n",
    "            names=[\"chrom\",\"start\",\"scAB\"])\n",
    "        dat = dat.assign(sample_name = sample)\n",
    "        store.put(\n",
    "            \"main\",\n",
    "            dat, format=\"table\", index=False,\n",
    "            data_columns = [\"chrom\",\"start\"],\n",
    "            append = True,\n",
    "            min_itemsize = {\"sample_name\": 32}\n",
    "        )\n",
    "    print(\"Indexing...\")\n",
    "    store.create_table_index(\"main\",columns=[\"chrom\",\"start\"], optlevel=6)"
   ]
  },
  {
   "cell_type": "code",
   "execution_count": 26,
   "metadata": {},
   "outputs": [
    {
     "name": "stderr",
     "output_type": "stream",
     "text": [
      "Writing samples: 100%|██████████| 46/46 [00:24<00:00,  1.86it/s]\n"
     ]
    },
    {
     "name": "stdout",
     "output_type": "stream",
     "text": [
      "Indexing...\n"
     ]
    }
   ],
   "source": [
    "with pd.HDFStore(h.ddir / \"mESC.scAB.20k.h5\",complevel=3,complib=\"zlib\",mode=\"w\") as store:\n",
    "    for sample in tqdm(mESC_gs, desc=\"Writing samples\"):\n",
    "        dat = pd.read_table(\n",
    "            h.dsdir / \"scAB\" / f\"{sample}.20k.scAB.csv.gz\",\n",
    "            sep=\"\\t\",\n",
    "            names=[\"chrom\",\"start\",\"scAB\"])\n",
    "        dat = dat.assign(sample_name = sample)\n",
    "        store.put(\n",
    "            \"main\",\n",
    "            dat, format=\"table\", index=False,\n",
    "            data_columns = [\"chrom\",\"start\"],\n",
    "            append = True,\n",
    "            min_itemsize = {\"sample_name\": 32}\n",
    "        )\n",
    "    print(\"Indexing...\")\n",
    "    store.create_table_index(\"main\",columns=[\"chrom\",\"start\"], optlevel=6)"
   ]
  },
  {
   "cell_type": "markdown",
   "metadata": {},
   "source": [
    "### calculate use pairs files"
   ]
  },
  {
   "cell_type": "code",
   "execution_count": null,
   "metadata": {},
   "outputs": [],
   "source": [
    "def work_main(args, pairs_col=\"pairs_c12\", **kwargs):\n",
    "    outfile = args[\"outfile\"]\n",
    "    if (not Path(outfile).exists() or Force) and (not Fin):\n",
    "        scAB = calc_color2(\n",
    "            args[\"meta\"],\n",
    "            pairs_col,\n",
    "            args[\"ref\"],\n",
    "            binsize = args[\"binsize\"],\n",
    "            # col_thresh=0.1,\n",
    "            # row_thresh=0.4,\n",
    "            # threads = 8\n",
    "            **kwargs\n",
    "        )\n",
    "        scAB = scAB.T\n",
    "        scAB.index = pd.MultiIndex.from_tuples(\n",
    "            scAB.index\n",
    "        )\n",
    "        scAB.index = pd.MultiIndex.from_arrays(\n",
    "            [\n",
    "                scAB.index.get_level_values(0),\n",
    "                scAB.index.get_level_values(1).astype(int)\n",
    "            ]\n",
    "        )\n",
    "        scAB.index.names = [\"chrom\",\"start\"]\n",
    "        scAB.to_parquet(outfile, compression=\"gzip\")\n",
    "    else:\n",
    "        print(f\"{outfile} exists\")\n",
    "    return args[\"outfile\"]"
   ]
  },
  {
   "cell_type": "code",
   "execution_count": null,
   "metadata": {},
   "outputs": [],
   "source": [
    "# scAB_files = {\n",
    "#     batch : work_main(\n",
    "#         args,\n",
    "#         col_thresh=0, # 0 to keep all\n",
    "#         row_thresh=0, # 0 to keep all\n",
    "#         threads = 16,\n",
    "#         fill_color = False\n",
    "#         )\n",
    "#     for batch, args in scAB_args.items()\n",
    "# }"
   ]
  },
  {
   "cell_type": "code",
   "execution_count": null,
   "metadata": {},
   "outputs": [],
   "source": [
    "Force = False\n",
    "Fin = False\n",
    "\n",
    "e_scAB_files = {\n",
    "    batch : work_main(\n",
    "        args,\n",
    "        \"dip\",\n",
    "        col_thresh=0, # 0 to keep all\n",
    "        row_thresh=0, # 0 to keep all\n",
    "        threads = 16,\n",
    "        fill_color = False,\n",
    "        dropXY = False,\n",
    "        merge_haplotypes = False,\n",
    "        dupref=True\n",
    "        )\n",
    "    for batch, args in e_scAB_args.items()\n",
    "    if batch.startswith(\"mESC\")\n",
    "}"
   ]
  },
  {
   "cell_type": "code",
   "execution_count": null,
   "metadata": {},
   "outputs": [],
   "source": [
    "Force = False\n",
    "Fin = False\n",
    "\n",
    "e_scAB_files = {\n",
    "    batch : work_main(\n",
    "        args,\n",
    "        \"dip\",\n",
    "        col_thresh=0, # 0 to keep all\n",
    "        row_thresh=0, # 0 to keep all\n",
    "        threads = 16,\n",
    "        fill_color = False,\n",
    "        dropXY = False,\n",
    "        merge_haplotypes = False,\n",
    "        dupref=True\n",
    "        )\n",
    "    for batch, args in e_scAB_args.items()\n",
    "    if batch.startswith(\"Tan2018\")\n",
    "}"
   ]
  },
  {
   "cell_type": "code",
   "execution_count": null,
   "metadata": {},
   "outputs": [],
   "source": [
    "e_scAB_files = {\n",
    "    batch : work_main(\n",
    "        args,\n",
    "        col_thresh=0, # 0 to keep all\n",
    "        row_thresh=0, # 0 to keep all\n",
    "        threads = 16,\n",
    "        fill_color = False,\n",
    "        dropXY = False,\n",
    "        merge_haplotypes = False\n",
    "        )\n",
    "    for batch, args in e_scAB_args.items()\n",
    "    if batch in [\"Sperm_20k\",\"Sperm_hg_20k\",\"RS_20k\"]\n",
    "}"
   ]
  },
  {
   "cell_type": "markdown",
   "metadata": {},
   "source": [
    "### test res"
   ]
  },
  {
   "cell_type": "code",
   "execution_count": null,
   "metadata": {},
   "outputs": [],
   "source": [
    "import plotly.express as px"
   ]
  },
  {
   "cell_type": "code",
   "execution_count": null,
   "metadata": {},
   "outputs": [],
   "source": [
    "import plotly.graph_objects as go\n",
    "data = pd.read_parquet(scAB_files[\"mESC\"]).loc[\n",
    "    \"chr3\"\n",
    "    ].T\n",
    "\n",
    "data = data.sort_index(axis=1)\n",
    "\n",
    "fig = go.Figure()\n",
    "fig.add_trace(\n",
    "    go.Heatmap(\n",
    "        z = data.values,\n",
    "        x = data.columns,\n",
    "        y = data.index,\n",
    "        # purple to green\n",
    "        colorscale=px.colors.diverging.PRGn,\n",
    "        zmax = 0.012,\n",
    "        zmin = 0.005\n",
    "    )\n",
    ")\n",
    "fig.update_layout(\n",
    "    height = 300,\n",
    "    width = 500,\n",
    "    title = \"mESC chr3 scAB\"\n",
    ")\n",
    "fig.show(renderer=\"png\")"
   ]
  },
  {
   "cell_type": "code",
   "execution_count": null,
   "metadata": {},
   "outputs": [],
   "source": [
    "import plotly.graph_objects as go\n",
    "\n",
    "data = pd.read_parquet(scAB_files[\"Sperm\"]).loc[\n",
    "    \"chr3\"\n",
    "    ].T\n",
    "\n",
    "data = data.sort_index(axis=1)\n",
    "\n",
    "fig = go.Figure()\n",
    "fig.add_trace(\n",
    "    go.Heatmap(\n",
    "        z = data.values,\n",
    "        x = data.columns,\n",
    "        y = data.index,\n",
    "        # purple to green\n",
    "        colorscale=px.colors.diverging.PRGn,\n",
    "        zmax = 0.012,\n",
    "        zmin = 0.005\n",
    "    )\n",
    ")\n",
    "fig.update_layout(\n",
    "    height = 500,\n",
    "    width = 500,\n",
    "    title = \"Sperm chr3 scAB\"\n",
    ")\n",
    "fig.show(renderer=\"png\")"
   ]
  },
  {
   "cell_type": "code",
   "execution_count": null,
   "metadata": {},
   "outputs": [],
   "source": [
    "import plotly.graph_objects as go\n",
    "\n",
    "data = pd.read_parquet(scAB_files[\"Tan2018\"]).loc[\n",
    "    \"chr3\"\n",
    "    ].T\n",
    "\n",
    "data = data.sort_index(axis=1)\n",
    "\n",
    "fig = go.Figure()\n",
    "fig.add_trace(\n",
    "    go.Heatmap(\n",
    "        z = data.values,\n",
    "        x = data.columns,\n",
    "        y = data.index,\n",
    "        # purple to green\n",
    "        colorscale=px.colors.diverging.PRGn,\n",
    "        zmax = 0.02,\n",
    "        zmin = 0.005,\n",
    "        showscale=False\n",
    "    )\n",
    ")\n",
    "fig.update_layout(\n",
    "    height = 200,\n",
    "    width = 500,\n",
    "    title = \"GM12878 chr3 scAB\",\n",
    ")\n",
    "fig.show(renderer=\"png\")"
   ]
  },
  {
   "cell_type": "code",
   "execution_count": null,
   "metadata": {},
   "outputs": [],
   "source": [
    "import plotly.graph_objects as go\n",
    "import plotly.express as px\n",
    "\n",
    "data = pd.read_parquet(\n",
    "    e_scAB_files[\"Tan2018_50k\"]\n",
    "    )\n",
    "data.sort_index(inplace=True)\n",
    "data = data.loc[\n",
    "    (\"chr3\",60000000) : (\"chr3\",65000000)\n",
    "    ].droplevel(0).T\n",
    "\n",
    "data = data.sort_index(axis=1)\n",
    "\n",
    "fig = go.Figure()\n",
    "fig.add_trace(\n",
    "    go.Heatmap(\n",
    "        z = data.values,\n",
    "        x = data.columns,\n",
    "        y = data.index,\n",
    "        # purple to green\n",
    "        colorscale=px.colors.diverging.PRGn,\n",
    "        zmax = 0.01,\n",
    "        zmin = 0.005,\n",
    "        showscale=False\n",
    "    )\n",
    ")\n",
    "fig.update_layout(\n",
    "    height = 200,\n",
    "    width = 500,\n",
    "    title = \"GM12878 chr3 60M-65M scAB\"\n",
    ")\n",
    "fig.show(renderer=\"png\")"
   ]
  },
  {
   "cell_type": "code",
   "execution_count": null,
   "metadata": {},
   "outputs": [],
   "source": [
    "import plotly.graph_objects as go\n",
    "import plotly.express as px\n",
    "\n",
    "data = pd.read_parquet(\n",
    "    e_scAB_files[\"Sperm_hg_50k\"]\n",
    "    )\n",
    "data.sort_index(inplace=True)\n",
    "data = data.loc[\n",
    "    (\"chr3\",60000000) : (\"chr3\",65000000)\n",
    "    ].droplevel(0).T\n",
    "\n",
    "data = data.sort_index(axis=1)\n",
    "\n",
    "fig = go.Figure()\n",
    "fig.add_trace(\n",
    "    go.Heatmap(\n",
    "        z = data.values,\n",
    "        x = data.columns,\n",
    "        y = data.index,\n",
    "        # purple to green\n",
    "        colorscale=px.colors.diverging.PRGn,\n",
    "        zmax = 0.01,\n",
    "        zmin = 0.005,\n",
    "        showscale=False\n",
    "    )\n",
    ")\n",
    "fig.update_layout(\n",
    "    height = 500,\n",
    "    width = 500,\n",
    "    title = \"human sperm chr3 60M-65M scAB\"\n",
    ")\n",
    "fig.show(renderer=\"png\")"
   ]
  },
  {
   "cell_type": "code",
   "execution_count": null,
   "metadata": {},
   "outputs": [],
   "source": [
    "import plotly.graph_objects as go\n",
    "import plotly.express as px\n",
    "\n",
    "data = pd.read_parquet(\n",
    "    h.ddir / \"Sperm_hg.color2.parquet.gz\"\n",
    "    )\n",
    "data.sort_index(inplace=True)\n",
    "data = data.loc[\n",
    "    (\"chr3\",60000000) : (\"chr3\",80000000)\n",
    "    ].droplevel(0).T\n",
    "\n",
    "data = data.sort_index(axis=1)\n",
    "\n",
    "fig = go.Figure()\n",
    "fig.add_trace(\n",
    "    go.Heatmap(\n",
    "        z = data.values,\n",
    "        x = data.columns,\n",
    "        y = data.index,\n",
    "        # purple to green\n",
    "        colorscale=px.colors.diverging.PRGn,\n",
    "        zmax = 0.02,\n",
    "        zmin = 0.005,\n",
    "        showscale=False\n",
    "    )\n",
    ")\n",
    "fig.update_layout(\n",
    "    height = 500,\n",
    "    width = 500,\n",
    "    title = \"Human Sperm chr3 60M-80M scAB\"\n",
    ")\n",
    "fig.show(renderer=\"png\")"
   ]
  },
  {
   "cell_type": "code",
   "execution_count": null,
   "metadata": {},
   "outputs": [],
   "source": [
    "s0 = pd.Series(scAB[0])\n",
    "s0.sort_index(inplace=True)\n",
    "s1 = pd.Series(scAB[1])\n",
    "s1.sort_index(inplace=True)"
   ]
  },
  {
   "cell_type": "code",
   "execution_count": null,
   "metadata": {},
   "outputs": [],
   "source": [
    "s1[(\"chr1\",4120000.0):]"
   ]
  },
  {
   "cell_type": "code",
   "execution_count": null,
   "metadata": {},
   "outputs": [],
   "source": [
    "s0"
   ]
  },
  {
   "cell_type": "code",
   "execution_count": null,
   "metadata": {},
   "outputs": [],
   "source": [
    "s1"
   ]
  },
  {
   "cell_type": "code",
   "execution_count": null,
   "metadata": {},
   "outputs": [],
   "source": [
    "pd.concat([s0, s1],axis=1).head(50)"
   ]
  },
  {
   "cell_type": "code",
   "execution_count": null,
   "metadata": {},
   "outputs": [],
   "source": [
    "pd.concat([pd.Series(scAB[0]), pd.Series(scAB[1])],axis=1)"
   ]
  },
  {
   "cell_type": "code",
   "execution_count": null,
   "metadata": {},
   "outputs": [],
   "source": [
    "import numpy as np"
   ]
  },
  {
   "cell_type": "code",
   "execution_count": null,
   "metadata": {},
   "outputs": [],
   "source": [
    "new_data = pd.DataFrame(scAB, index=read_meta(\"meta/tillsperm28.meta.csv.gz\").head(2).index)"
   ]
  },
  {
   "cell_type": "code",
   "execution_count": null,
   "metadata": {},
   "outputs": [],
   "source": [
    "np.ceil(new_data.shape[0]*0.4)"
   ]
  },
  {
   "cell_type": "code",
   "execution_count": null,
   "metadata": {},
   "outputs": [],
   "source": [
    "new_data.dropna(axis=1,thresh=1,)"
   ]
  },
  {
   "cell_type": "code",
   "execution_count": null,
   "metadata": {},
   "outputs": [],
   "source": [
    "stack_dict([scAB[0],scAB[1]],read_meta(\"meta/tillsperm28.meta.csv.gz\").head(2).index,col_thresh=0.4,row_thresh=0.4) "
   ]
  }
 ],
 "metadata": {
  "kernelspec": {
   "display_name": "Python 3",
   "language": "python",
   "name": "python3"
  },
  "language_info": {
   "codemirror_mode": {
    "name": "ipython",
    "version": 3
   },
   "file_extension": ".py",
   "mimetype": "text/x-python",
   "name": "python",
   "nbconvert_exporter": "python",
   "pygments_lexer": "ipython3",
   "version": "3.10.14"
  }
 },
 "nbformat": 4,
 "nbformat_minor": 2
}
