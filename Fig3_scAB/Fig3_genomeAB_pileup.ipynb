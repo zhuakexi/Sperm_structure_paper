{
 "cells": [
  {
   "cell_type": "code",
   "execution_count": 1,
   "metadata": {},
   "outputs": [],
   "source": [
    "%run \"subhead.ipynb\""
   ]
  },
  {
   "cell_type": "code",
   "execution_count": 2,
   "metadata": {},
   "outputs": [],
   "source": [
    "if h.version in [\"0\",\"1\"]:\n",
    "    meta = read_meta(h.base / \"notebooks/A_meta/meta/All.meta.csv.gz\")\n",
    "elif h.version == \"2\":\n",
    "    meta = read_meta(h.base / \"notebooks/A_meta/meta/All_formal.meta.csv.gz\")\n",
    "\n",
    "Sperm_ga = load_json(\n",
    "    h.fig1 / f\"Fig1S_structure_quality/Sperm_ga.v{h.version}.json\"\n",
    ")\n",
    "Sperm_hg_ga = load_json(\n",
    "    h.fig1 / f\"Fig1S_structure_quality/Sperm_hg_ga.v{h.version}.json\"\n",
    ")\n",
    "mESC_gs = load_json(\n",
    "    h.fig1 / f\"Fig1S_tech_analysis/mESC_samples_with_structure.v{h.version}.json\"\n",
    ")\n",
    "Tan2018_gs = load_json(\n",
    "    h.fig1 / f\"Fig1S_tech_analysis/Tan2018_samples_with_structure.v{h.version}.json\"\n",
    ")\n",
    "\n",
    "#binsize = 500000\n",
    "binsizes = [20000, 50000, 200000, 500000]\n",
    "e_scAB_args = {}\n",
    "for binsize in binsizes:\n",
    "    scAB_args = {\n",
    "        f\"Tan2018_{h.binsize_suffix[binsize]}\" : {\n",
    "            \"meta\" : meta.loc[Tan2018_gs],\n",
    "            \"binsize\" : binsize,\n",
    "            \"ref\" : pd.read_table(\n",
    "                h.ddir / f\"GRCh38.CpG.{h.binsize_suffix[binsize]}.tsv.gz\",\n",
    "                names = [\"chrom\",\"start\",\"end\",\"CpG\"]\n",
    "                ),\n",
    "            \"outfile\" : h.ddir / f\"Tan2018_{h.binsize_suffix[binsize]}.color2.parquet.gz\",\n",
    "        },\n",
    "        f\"mESC_{h.binsize_suffix[binsize]}\" : {\n",
    "            \"meta\" : meta.loc[mESC_gs],\n",
    "            \"binsize\" : binsize,\n",
    "            \"ref\" : pd.read_table(\n",
    "                h.ddir / f\"mm10.CpG.{h.binsize_suffix[binsize]}.tsv.gz\",\n",
    "                names = [\"chrom\",\"start\",\"end\",\"CpG\"]\n",
    "                ),\n",
    "            \"outfile\" : h.ddir / f\"mESC_{h.binsize_suffix[binsize]}.color2.parquet.gz\",\n",
    "        },\n",
    "        f\"Sperm_{h.binsize_suffix[binsize]}\" : {\n",
    "            \"meta\" : meta.loc[Sperm_ga],\n",
    "            \"binsize\" : binsize,\n",
    "            \"ref\" : pd.read_table(\n",
    "                h.ddir / f\"mm10.CpG.{h.binsize_suffix[binsize]}.tsv.gz\",\n",
    "                names = [\"chrom\",\"start\",\"end\",\"CpG\"]\n",
    "                ),\n",
    "            \"outfile\" : h.ddir / f\"Sperm_{h.binsize_suffix[binsize]}.color2.parquet.gz\",\n",
    "        },\n",
    "        f\"Sperm_hg_{h.binsize_suffix[binsize]}\" : {\n",
    "            \"meta\" : meta.loc[Sperm_hg_ga],\n",
    "            \"binsize\" : binsize,\n",
    "            \"ref\" : pd.read_table(\n",
    "                h.ddir / f\"GRCh38.CpG.{h.binsize_suffix[binsize]}.tsv.gz\",\n",
    "                names = [\"chrom\",\"start\",\"end\",\"CpG\"]\n",
    "                ),\n",
    "            \"outfile\" : h.ddir / f\"Sperm_hg_{h.binsize_suffix[binsize]}.color2.parquet.gz\",\n",
    "        },\n",
    "    }\n",
    "    e_scAB_args.update(scAB_args)\n",
    "\n",
    "e_scAB_files = {\n",
    "    batch : args[\"outfile\"]\n",
    "    for batch, args in e_scAB_args.items()\n",
    "}"
   ]
  },
  {
   "cell_type": "code",
   "execution_count": 3,
   "metadata": {},
   "outputs": [],
   "source": [
    "lr_contour = pd.read_pickle(h.fig1 / \"Fig1_contour\" / f\"Sperm.lr_contour.v{h.version}.pkl\")\n",
    "dv_contour = pd.read_pickle(h.fig1 / \"Fig1_contour\" / f\"Sperm.dv_contour.v{h.version}.pkl\")\n",
    "hg_lr_contour = pd.read_pickle(h.fig1 / \"Fig1_contour\" / f\"Sperm_hg.lr_contour.v{h.version}.pkl\")\n",
    "hg_dv_contour = pd.read_pickle(h.fig1 / \"Fig1_contour\" / f\"Sperm_hg.dv_contour.v{h.version}.pkl\")"
   ]
  },
  {
   "cell_type": "code",
   "execution_count": 4,
   "metadata": {},
   "outputs": [],
   "source": [
    "batches = [\n",
    "    \"Sperm_scAB\",\n",
    "    \"Sperm_hg_scAB\",\n",
    "    \"Sperm\",\n",
    "    \"Sperm_hg\"\n",
    "]\n",
    "\n",
    "arg_bfs_vx_files = { # single slice\n",
    "    batch : (h.ddir / batch).with_suffix(\".vx.bfs.h5\")\n",
    "    for batch in batches\n",
    "}\n",
    "\n",
    "arg_bfs_lr_ss_files = { # single slice\n",
    "    batch : (h.ddir / batch).with_suffix(\".lr_ss.bfs.pkl\")\n",
    "    for batch in batches\n",
    "}\n",
    "\n",
    "arg_bfs_dv_ss_files = {\n",
    "    batch : (h.ddir / batch).with_suffix(\".dv_ss.bfs.pkl\")\n",
    "    for batch in batches\n",
    "}\n",
    "\n",
    "arg_bfs_lr_ft_files = { # full thickness\n",
    "    batch : (h.ddir / batch).with_suffix(\".lr_ft.bfs.pkl\")\n",
    "    for batch in batches\n",
    "}\n",
    "\n",
    "arg_bfs_voxel_files = {\n",
    "    batch : (h.ddir / batch).with_suffix(\".voxel.bfs.pkl\")\n",
    "    for batch in batches\n",
    "}"
   ]
  },
  {
   "cell_type": "markdown",
   "metadata": {},
   "source": [
    "### plot mouse"
   ]
  },
  {
   "cell_type": "code",
   "execution_count": 5,
   "metadata": {},
   "outputs": [],
   "source": [
    "regions = pd.read_csv(\"Sperm.AB.center.1m.csv\",index_col=\"region_id\")\n",
    "feature_binsize = 1000000\n",
    "scAB_file = e_scAB_files[\"Sperm_500k\"]\n",
    "ntop = 100"
   ]
  },
  {
   "cell_type": "code",
   "execution_count": 6,
   "metadata": {},
   "outputs": [],
   "source": [
    "A_regions = regions.query('AB == \"A\"').index.tolist()\n",
    "B_regions = regions.query('AB == \"B\"').index.tolist()"
   ]
  },
  {
   "cell_type": "code",
   "execution_count": 7,
   "metadata": {},
   "outputs": [],
   "source": [
    "Bstrong = {} # agg_feature_name : sample_list\n",
    "Bweak = {}\n",
    "for region_id in B_regions:\n",
    "    region = regions.loc[region_id, :]\n",
    "    chrom, start = region[\"chrom\"], region[\"center\"] # start pos of center bin\n",
    "    end = start + 1000000\n",
    "    sorted_scAB_df = sort_scAB(\n",
    "        scAB_file,\n",
    "        chrom,\n",
    "        (chrom,start,end),\n",
    "        lambda x: x.median()\n",
    "        )\n",
    "    sorted_scAB_samples = sorted_scAB_df.index.tolist()\n",
    "    # for B, heads are strong\n",
    "    Bstrong[region_id+\"_dist\"] = sorted_scAB_samples[:ntop]\n",
    "    Bweak[region_id+\"_dist\"] = sorted_scAB_samples[-ntop:]\n",
    "Astrong = {}\n",
    "Aweak = {}\n",
    "for region_id in A_regions:\n",
    "    region = regions.loc[region_id, :]\n",
    "    chrom, start = region[\"chrom\"], region[\"center\"]\n",
    "    end = start + 1000000\n",
    "    sorted_scAB_df = sort_scAB(\n",
    "        scAB_file,\n",
    "        chrom,\n",
    "        (chrom,start,end),\n",
    "        lambda x: x.median()\n",
    "        )\n",
    "    sorted_scAB_samples = sorted_scAB_df.index.tolist()\n",
    "    # for A, tails are strong\n",
    "    Astrong[region_id+\"_dist\"] = sorted_scAB_samples[-ntop:]\n",
    "    Aweak[region_id+\"_dist\"] = sorted_scAB_samples[:ntop]"
   ]
  },
  {
   "cell_type": "code",
   "execution_count": 10,
   "metadata": {},
   "outputs": [
    {
     "name": "stdout",
     "output_type": "stream",
     "text": [
      "Bstrong done\n",
      "Bweak done\n",
      "Astrong done\n",
      "Aweak done\n"
     ]
    }
   ],
   "source": [
    "batch_name = \"mouse\"\n",
    "bfs_file = arg_bfs_vx_files[\"Sperm_scAB\"]\n",
    "density = get_density(arg_bfs_vx_files[\"Sperm\"])\n",
    "\n",
    "sample_dicts = [Bstrong, Bweak, Astrong, Aweak]\n",
    "region_types = [\"Bstrong\", \"Bweak\", \"Astrong\", \"Aweak\"]\n",
    "titles = [f\"{batch_name} {region_type}, density normed (lr=0 slice)\" for region_type in region_types]\n",
    "#paths = [f\"pngs/genomeAB/{batch_name}.{region_type}.png\" for region_type in region_types]\n",
    "paths = [f\"output/{batch_name}.{region_type}.pdf\" for region_type in region_types]\n",
    "for sample_dict, region_type, title, path in zip(sample_dicts, region_types, titles, paths):\n",
    "    data = scAB_feature_agg(\n",
    "        bfs_file,\n",
    "        sample_dict # agg_feature_name : sample_list\n",
    "        )\n",
    "    ratio = (data / density).fillna(0)\n",
    "    fig = plot_heatmap_with_bars(\n",
    "        ratio.unstack(),\n",
    "        cmap = \"RdBu_r\",\n",
    "        #zmax = 0.1,\n",
    "        #zmin = 0\n",
    "    )\n",
    "    fig.update_layout(\n",
    "        title = title,\n",
    "    )\n",
    "    # fig.update_xaxes(\n",
    "    #     showline = True,\n",
    "    #     linecolor = 'black',\n",
    "    #     ticks = \"outside\",\n",
    "    #     mirror = True,\n",
    "    # )\n",
    "    # fig.update_yaxes(\n",
    "    #     showline = True,\n",
    "    #     linecolor = 'black',\n",
    "    #     ticks = \"outside\",\n",
    "    #     mirror = True,\n",
    "    # )\n",
    "    fig.write_image(path)\n",
    "    print(f\"{region_type} done\")\n",
    "    #break"
   ]
  },
  {
   "cell_type": "markdown",
   "metadata": {},
   "source": [
    "### plot human"
   ]
  },
  {
   "cell_type": "code",
   "execution_count": 11,
   "metadata": {},
   "outputs": [],
   "source": [
    "regions = pd.read_csv(\"Sperm_hg.AB.center.1m.csv\",index_col=\"region_id\")\n",
    "feature_binsize = 1000000\n",
    "scAB_file = e_scAB_files[\"Sperm_hg_500k\"]\n",
    "ntop = 100"
   ]
  },
  {
   "cell_type": "code",
   "execution_count": 12,
   "metadata": {},
   "outputs": [],
   "source": [
    "A_regions = regions.query('AB == \"A\"').index.tolist()\n",
    "B_regions = regions.query('AB == \"B\"').index.tolist()"
   ]
  },
  {
   "cell_type": "code",
   "execution_count": 14,
   "metadata": {},
   "outputs": [],
   "source": [
    "Bstrong = {} # agg_feature_name : sample_list\n",
    "Bweak = {}\n",
    "for region_id in B_regions:\n",
    "    region = regions.loc[region_id, :]\n",
    "    chrom, start = region[\"chrom\"], region[\"center\"] # start pos of center bin\n",
    "    end = start + 1000000\n",
    "    sorted_scAB_df = sort_scAB(\n",
    "        scAB_file,\n",
    "        chrom,\n",
    "        (chrom,start,end),\n",
    "        lambda x: x.median()\n",
    "        )\n",
    "    sorted_scAB_samples = sorted_scAB_df.index.tolist()\n",
    "    # for B, heads are strong\n",
    "    Bstrong[region_id+\"_dist\"] = sorted_scAB_samples[:ntop]\n",
    "    Bweak[region_id+\"_dist\"] = sorted_scAB_samples[-ntop:]\n",
    "Astrong = {}\n",
    "Aweak = {}\n",
    "for region_id in A_regions:\n",
    "    region = regions.loc[region_id, :]\n",
    "    chrom, start = region[\"chrom\"], region[\"center\"]\n",
    "    end = start + 1000000\n",
    "    sorted_scAB_df = sort_scAB(\n",
    "        scAB_file,\n",
    "        chrom,\n",
    "        (chrom,start,end),\n",
    "        lambda x: x.median()\n",
    "        )\n",
    "    sorted_scAB_samples = sorted_scAB_df.index.tolist()\n",
    "    # for A, tails are strong\n",
    "    Astrong[region_id+\"_dist\"] = sorted_scAB_samples[-ntop:]\n",
    "    Aweak[region_id+\"_dist\"] = sorted_scAB_samples[:ntop]"
   ]
  },
  {
   "cell_type": "code",
   "execution_count": 15,
   "metadata": {},
   "outputs": [
    {
     "name": "stdout",
     "output_type": "stream",
     "text": [
      "Bstrong done\n",
      "Bweak done\n",
      "Astrong done\n",
      "Aweak done\n"
     ]
    }
   ],
   "source": [
    "batch_name = \"human\"\n",
    "bfs_file = arg_bfs_vx_files[\"Sperm_hg_scAB\"]\n",
    "density = get_density(arg_bfs_vx_files[\"Sperm_hg\"])\n",
    "\n",
    "sample_dicts = [Bstrong, Bweak, Astrong, Aweak]\n",
    "region_types = [\"Bstrong\", \"Bweak\", \"Astrong\", \"Aweak\"]\n",
    "titles = [f\"{batch_name} {region_type}, density normed (lr=0 slice)\" for region_type in region_types]\n",
    "#paths = [f\"pngs/genomeAB/{batch_name}.{region_type}.png\" for region_type in region_types]\n",
    "paths = [f\"output/{batch_name}.{region_type}.pdf\" for region_type in region_types]\n",
    "for sample_dict, region_type, title, path in zip(sample_dicts, region_types, titles, paths):\n",
    "    data = scAB_feature_agg(\n",
    "        bfs_file,\n",
    "        sample_dict\n",
    "        )\n",
    "    ratio = (data / density).fillna(0)\n",
    "    fig = plot_heatmap_with_bars(\n",
    "        ratio.unstack(),\n",
    "        cmap = \"RdBu_r\",\n",
    "    )\n",
    "    fig.update_layout(\n",
    "        title = title,\n",
    "    )\n",
    "    # fig.update_xaxes(\n",
    "    #     showline = True,\n",
    "    #     linecolor = 'black',\n",
    "    #     ticks = \"outside\",\n",
    "    #     mirror = True,\n",
    "    # )\n",
    "    # fig.update_yaxes(\n",
    "    #     showline = True,\n",
    "    #     linecolor = 'black',\n",
    "    #     ticks = \"outside\",\n",
    "    #     mirror = True,\n",
    "    # )\n",
    "    fig.write_image(path)\n",
    "    print(f\"{region_type} done\")"
   ]
  },
  {
   "cell_type": "code",
   "execution_count": null,
   "metadata": {},
   "outputs": [],
   "source": []
  }
 ],
 "metadata": {
  "kernelspec": {
   "display_name": "Python 3",
   "language": "python",
   "name": "python3"
  },
  "language_info": {
   "codemirror_mode": {
    "name": "ipython",
    "version": 3
   },
   "file_extension": ".py",
   "mimetype": "text/x-python",
   "name": "python",
   "nbconvert_exporter": "python",
   "pygments_lexer": "ipython3",
   "version": "3.10.14"
  }
 },
 "nbformat": 4,
 "nbformat_minor": 2
}
