{
 "cells": [
  {
   "cell_type": "code",
   "execution_count": 1,
   "metadata": {},
   "outputs": [],
   "source": [
    "%run \"subhead.ipynb\""
   ]
  },
  {
   "cell_type": "code",
   "execution_count": 2,
   "metadata": {},
   "outputs": [],
   "source": [
    "from pathlib import Path\n",
    "\n",
    "import skimage\n",
    "from hic_basic.plot.hic import _plot_mat, cool2mat\n",
    "from hic_basic.coolstuff import cli_expected, cli_balance"
   ]
  },
  {
   "cell_type": "code",
   "execution_count": 3,
   "metadata": {},
   "outputs": [
    {
     "name": "stdout",
     "output_type": "stream",
     "text": [
      "Balanced matrix 'weight' already exists. Skipping execution.\n",
      "Balanced matrix 'weight' already exists. Skipping execution.\n",
      "Balanced matrix 'weight' already exists. Skipping execution.\n",
      "Balanced matrix 'weight' already exists. Skipping execution.\n",
      "File '/shareb/ychi/repo/sperm_struct/notebooks/data2/Sperm.CM.balanced.expected.20k.tsv' already exists. Skipping execution.\n",
      "File '/shareb/ychi/repo/sperm_struct/notebooks/data2/Sperm_hg.CM.balanced.expected.20k.tsv' already exists. Skipping execution.\n",
      "File '/shareb/ychi/repo/sperm_struct/notebooks/data2/Tan2018.CM.balanced.expected.20k.tsv' already exists. Skipping execution.\n",
      "File '/shareb/ychi/repo/sperm_struct/notebooks/data2/mESC.CM.balanced.expected.20k.tsv' already exists. Skipping execution.\n"
     ]
    }
   ],
   "source": [
    "batches = [\"Sperm\", \"Sperm_hg\", \"Tan2018\", \"mESC\"]\n",
    "\n",
    "IS_files = {\n",
    "    \"Sperm_hg\" : h.ddir / \"Sperm_hg.d3.proximity_map.20k.IS.tsv\",\n",
    "    \"Sperm\" : h.ddir / \"Sperm.d3.proximity_map.20k.IS.tsv\",\n",
    "    \"Tan2018\" : h.ddir / \"Tan2018.d3.proximity_map.20k.IS.tsv\",\n",
    "    \"mESC\" : h.ddir / \"mESC.d3.proximity_map.20k.IS.tsv\"\n",
    "}\n",
    "ISs = {\n",
    "    batch : pd.read_csv(IS_files[batch], sep=\"\\t\")\n",
    "    for batch in batches\n",
    "}\n",
    "\n",
    "coolps = {\n",
    "    \"Sperm_hg\" : h.ddir / \"Sperm_hg.pileup.1k.mcool::resolutions/20000\",\n",
    "    \"Sperm\" : h.ddir / \"Sperm.pileup.1k.mcool::resolutions/20000\",\n",
    "    \"Tan2018\" : h.ddir / \"Tan2018.pileup.1k.mcool::resolutions/20000\",\n",
    "    \"mESC\" : h.ddir / \"mESC.pileup.1k.mcool::resolutions/20000\"\n",
    "}\n",
    "\n",
    "# balance coolp\n",
    "for batch in batches:\n",
    "    cli_balance(\n",
    "        coolps[batch],\n",
    "        ignore_diags = 0,\n",
    "        force = False\n",
    "    )\n",
    "\n",
    "expected = {\n",
    "    batch : cli_expected(\n",
    "        coolps[batch],\n",
    "        h.ddir / f\"{batch}.CM.balanced.expected.20k.tsv\",\n",
    "        ignore_diags=0,\n",
    "        balanced=True,\n",
    "        force = False\n",
    "        )\n",
    "    for batch in batches\n",
    "}"
   ]
  },
  {
   "cell_type": "code",
   "execution_count": 6,
   "metadata": {},
   "outputs": [
    {
     "name": "stdout",
     "output_type": "stream",
     "text": [
      "output_CM_balanced_pileup/GM12878_on_GM12878.pdf exists, skip.\n",
      "output_CM_balanced_pileup/Human sperm_on_GM12878.pdf exists, skip.\n",
      "output_CM_balanced_pileup/mESC_on_mESC.pdf exists, skip.\n",
      "output_CM_balanced_pileup/Mouse sperm_on_mESC.pdf exists, skip.\n",
      "output_CM_balanced_pileup/GM12878_on_Human sperm.pdf exists, skip.\n",
      "output_CM_balanced_pileup/Human sperm_on_Human sperm.pdf exists, skip.\n",
      "Processing output_CM_balanced_pileup/mESC_on_Mouse sperm.pdf\n",
      "ref is treated as bedpe\n"
     ]
    },
    {
     "name": "stderr",
     "output_type": "stream",
     "text": [
      "chrom: 100%|██████████| 13/13 [01:18<00:00,  6.05s/it]\n"
     ]
    },
    {
     "name": "stdout",
     "output_type": "stream",
     "text": [
      "Processing output_CM_balanced_pileup/Mouse sperm_on_Mouse sperm.pdf\n",
      "ref is treated as bedpe\n"
     ]
    },
    {
     "name": "stderr",
     "output_type": "stream",
     "text": [
      "chrom: 100%|██████████| 13/13 [01:22<00:00,  6.32s/it]\n"
     ]
    }
   ],
   "source": [
    "outdir = \"output_CM_balanced_pileup\"\n",
    "\n",
    "border_dfs = [ISs[\"Tan2018\"]] * 2 + [ISs[\"mESC\"]] * 2 + [ISs[\"Sperm_hg\"]]*2 + [ISs[\"Sperm\"]]*2\n",
    "border_names = [\"GM12878\"] * 2 + [\"mESC\"] * 2 + [\"Human sperm\"]*2 + [\"Mouse sperm\"]*2\n",
    "coolps = [\"Tan2018.pileup.1k.mcool\", \"Sperm_hg.pileup.1k.mcool\", \"mESC.pileup.1k.mcool\", \"Sperm.pileup.1k.mcool\"] * 2\n",
    "expected_files = [expected[\"Tan2018\"], expected[\"Sperm_hg\"], expected[\"mESC\"], expected[\"Sperm\"]] * 2\n",
    "coolp_names = [\"GM12878\", \"Human sperm\", \"mESC\", \"Mouse sperm\"] * 2\n",
    "for border_df, border_name, coolp, coolp_name, expected_file in zip(border_dfs, border_names, coolps, coolp_names, expected_files):\n",
    "    \n",
    "    # if not (coolp_name in [\"Human sperm\", \"Mouse sperm\"]):\n",
    "    #     continue\n",
    "    # if not (border_name in [\"GM12878\", \"mESC\"]):\n",
    "    #     continue\n",
    "    outfile = Path(f\"{outdir}/{coolp_name}_on_{border_name}.pdf\")\n",
    "    if outfile.exists():\n",
    "        print(f\"{outfile} exists, skip.\")\n",
    "        continue\n",
    "    else:\n",
    "        print(\"Processing\", outfile)\n",
    "\n",
    "    # --- get tad list --- #\n",
    "\n",
    "    border_df = border_df.loc[border_df[f\"is_boundary_200000\"]].reset_index(drop=True)\n",
    "    tads = IS2blocks(border_df)\n",
    "    # pick TADs size from 100kb to 1Mb\n",
    "    tads = tads.query('((start2 - start1) < 1000000) and ((start2 - start1) > 100000)')\n",
    "    \n",
    "    # --- pileup --- #\n",
    "    coolp = str(h.ddir / coolp)\n",
    "    coolp = str(coolp)+\"::/resolutions/20000\"\n",
    "    expected_df = pd.read_table(expected_file)\n",
    "    mat = block_pileup(coolp, tads, expected=expected_df, power=0.25, balance=True)\n",
    "\n",
    "    # --- plot --- #\n",
    "    strength = TAD_pileup_strength(mat)\n",
    "    fig = _plot_mat(\n",
    "        mat,\n",
    "        donorm=False,\n",
    "        cmap = \"fall\",\n",
    "        ignore_diags = False,\n",
    "        zmax = np.quantile(mat, 0.99),\n",
    "        zmin = np.quantile(mat, 0.01),\n",
    "        showscale = True\n",
    "    )\n",
    "    fig.update_layout(\n",
    "        height = 500,\n",
    "        width = 500,\n",
    "        title = f\"{coolp_name} pileup on {border_name} TADs<br>strength={strength:.2f}\",\n",
    "        xaxis = dict(\n",
    "            tickvals = [30,60],\n",
    "            ticktext = [\"\", \"\"],\n",
    "            ticks = \"outside\",\n",
    "        ),\n",
    "        yaxis = dict(\n",
    "            tickvals = [30,60],\n",
    "            ticktext = [\"\", \"\"],\n",
    "            ticks = \"outside\",\n",
    "        ),\n",
    "    )\n",
    "    #fig.show(renderer=\"png\")\n",
    "    fig.write_image(\n",
    "        outfile\n",
    "    )\n",
    "    mat = pd.DataFrame(mat)\n",
    "    mat.to_csv(outfile.with_suffix(\".tsv\"), sep=\"\\t\", index=False, header=False)"
   ]
  }
 ],
 "metadata": {
  "kernelspec": {
   "display_name": "Python 3",
   "language": "python",
   "name": "python3"
  },
  "language_info": {
   "codemirror_mode": {
    "name": "ipython",
    "version": 3
   },
   "file_extension": ".py",
   "mimetype": "text/x-python",
   "name": "python",
   "nbconvert_exporter": "python",
   "pygments_lexer": "ipython3",
   "version": "3.10.14"
  }
 },
 "nbformat": 4,
 "nbformat_minor": 2
}
