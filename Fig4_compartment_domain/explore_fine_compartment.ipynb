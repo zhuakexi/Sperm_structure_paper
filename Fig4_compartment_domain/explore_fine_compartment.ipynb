{
 "cells": [
  {
   "cell_type": "code",
   "execution_count": 1,
   "metadata": {},
   "outputs": [],
   "source": [
    "%run \"../head.py\""
   ]
  },
  {
   "cell_type": "code",
   "execution_count": 2,
   "metadata": {},
   "outputs": [],
   "source": [
    "scAB_3d = {\n",
    "    \"Sperm\" : h.ddir / \"Sperm.scAB.20k.h5\",\n",
    "    \"Sperm_hg\" : h.ddir / \"Sperm_hg.scAB.20k.h5\",\n",
    "}"
   ]
  },
  {
   "cell_type": "code",
   "execution_count": 3,
   "metadata": {},
   "outputs": [],
   "source": [
    "from tqdm import tqdm"
   ]
  },
  {
   "cell_type": "code",
   "execution_count": 26,
   "metadata": {},
   "outputs": [],
   "source": [
    "import pandas as pd\n",
    "from typing import Dict, List\n",
    "\n",
    "def hdfstore_columns(file_name: str) -> Dict[str, List[str]]:\n",
    "    \"\"\"\n",
    "    Get the column names of all tables in an HDFStore file.\n",
    "\n",
    "    Input:\n",
    "        file_name (str): The path to the HDFStore (.h5) file.\n",
    "\n",
    "    Output:\n",
    "        A dictionary with table names as keys and lists of column names as values.\n",
    "        If an error occurs while reading a table, the error message is returned as the value.\n",
    "    \"\"\"\n",
    "    columns_dict = {}\n",
    "\n",
    "    # Open HDFStore file and manage resource with `with` statement\n",
    "    with pd.HDFStore(file_name) as store:\n",
    "        # Get all table names in the HDFStore\n",
    "        table_names = store.keys()\n",
    "\n",
    "        # Check the column names for each table, read only the first few rows to save memory\n",
    "        for table in table_names:\n",
    "            try:\n",
    "                # Read the first 5 rows\n",
    "                df = pd.read_hdf(store, table, start=0, stop=5)\n",
    "                columns = df.columns.tolist()  # Get column names as a list\n",
    "                columns_dict[table] = columns\n",
    "            except Exception as e:\n",
    "                columns_dict[table] = f\"Error: {e}\"\n",
    "\n",
    "    return columns_dict\n",
    "def mean_scAB(h5_file, chunksize=1000000):\n",
    "    with pd.HDFStore(h5_file, mode='r') as store:\n",
    "        total_rows = store.get_storer(\"main\").nrows\n",
    "        total_chunks = store.get_storer(\"main\").nrows // chunksize + 1\n",
    "        for i, chunk in enumerate(tqdm(store.select(\n",
    "            \"main\",\n",
    "            iterator=True,\n",
    "            chunksize=chunksize,\n",
    "            ),desc=\"Chunkwise sum\", total=total_chunks)):\n",
    "            if i == 0:\n",
    "                scAB_df = chunk.groupby(\n",
    "                    [\"chrom\",\"start\"])[\"scAB\"].agg([\"sum\",\"size\"]\n",
    "                    )\n",
    "            else:\n",
    "                scAB_df = scAB_df.add(\n",
    "                    chunk.groupby([\"chrom\",\"start\"])[\"scAB\"].agg([\"sum\",\"size\"]),\n",
    "                    fill_value=0\n",
    "                    )\n",
    "    return (scAB_df[\"sum\"] / scAB_df[\"size\"]).rename(\"scAB\")\n",
    "def region_scAB(h5_file, region):\n",
    "    with pd.HDFStore(h5_file, mode=\"r\") as store:\n",
    "        df = store.select(\n",
    "            \"main\",\n",
    "            where = 'chrom == region[0] & start >= region[1] & start <= region[2]',\n",
    "            columns = [\"chrom\",\"start\",\"sample_name\",\"scAB\"]\n",
    "        )\n",
    "    df = df.set_index([\"start\",\"sample_name\"])[\"scAB\"].unstack().T\n",
    "    return df\n",
    "#mean_scAB(scAB_3d[\"Sperm\"], 1000000)"
   ]
  },
  {
   "cell_type": "code",
   "execution_count": 8,
   "metadata": {},
   "outputs": [
    {
     "data": {
      "text/plain": [
       "{'/main': ['chrom', 'start', 'scAB', 'sample_name']}"
      ]
     },
     "execution_count": 8,
     "metadata": {},
     "output_type": "execute_result"
    }
   ],
   "source": [
    "hdfstore_columns(scAB_3d[\"Sperm\"])"
   ]
  },
  {
   "cell_type": "code",
   "execution_count": 30,
   "metadata": {},
   "outputs": [
    {
     "name": "stderr",
     "output_type": "stream",
     "text": [
      "Chunkwise sum: 100%|██████████| 88/88 [02:27<00:00,  1.68s/it]\n"
     ]
    }
   ],
   "source": [
    "Sperm_mean_scAB = mean_scAB(scAB_3d[\"Sperm\"], 1000000)"
   ]
  },
  {
   "cell_type": "code",
   "execution_count": 33,
   "metadata": {},
   "outputs": [],
   "source": [
    "Sperm_mean_scAB.reset_index().to_parquet(h.ddir / \"Sperm.mean_3d_scAB.parquet\")"
   ]
  },
  {
   "cell_type": "code",
   "execution_count": 35,
   "metadata": {},
   "outputs": [
    {
     "name": "stderr",
     "output_type": "stream",
     "text": [
      "Chunkwise sum: 100%|██████████| 139/139 [03:55<00:00,  1.70s/it]\n"
     ]
    }
   ],
   "source": [
    "Sperm_hg_mean_scAB = mean_scAB(scAB_3d[\"Sperm_hg\"], 1000000)"
   ]
  },
  {
   "cell_type": "code",
   "execution_count": 36,
   "metadata": {},
   "outputs": [],
   "source": [
    "Sperm_hg_mean_scAB.reset_index().to_parquet(h.ddir / \"Sperm_hg.mean_3d_scAB.parquet\")"
   ]
  },
  {
   "cell_type": "markdown",
   "metadata": {},
   "source": [
    "### show human Hoxa region"
   ]
  },
  {
   "cell_type": "markdown",
   "metadata": {},
   "source": [
    "mean scAB"
   ]
  },
  {
   "cell_type": "code",
   "execution_count": 66,
   "metadata": {},
   "outputs": [
    {
     "data": {
      "image/png": "[encoded data removed]"
     },
     "metadata": {},
     "output_type": "display_data"
    }
   ],
   "source": [
    "Sperm_hg_mean_scAB = pd.read_parquet(\n",
    "    h.ddir / \"Sperm_hg.mean_3d_scAB.parquet\",\n",
    "    )\n",
    "Sperm_hg_mean_scAB = Sperm_hg_mean_scAB.set_index([\"chrom\",\"start\"])\n",
    "\n",
    "# 1*nbins\n",
    "data = Sperm_hg_mean_scAB.loc[\n",
    "    (\"chr7\", 25132560) : (\"chr7\", 29247100)\n",
    "].droplevel(0).T\n",
    "\n",
    "fig = go.Figure()\n",
    "fig.add_trace(\n",
    "    go.Heatmap(\n",
    "        z = data.values,\n",
    "        x = data.columns,\n",
    "        y = data.index,\n",
    "        showscale = False,\n",
    "        #zmin=0.005,\n",
    "        #zmax=0.02,\n",
    "        colorscale = \"prgn\",\n",
    "    )\n",
    ")\n",
    "fig.update_layout(\n",
    "    margin = dict(l=10, r=10, t=10, b=10),\n",
    "    height = 100,\n",
    "    width = 500,\n",
    ")\n",
    "fig.show(renderer=\"png\")"
   ]
  },
  {
   "cell_type": "markdown",
   "metadata": {},
   "source": [
    "N agg scAB"
   ]
  },
  {
   "cell_type": "code",
   "execution_count": 77,
   "metadata": {},
   "outputs": [
    {
     "data": {
      "image/png": "[encoded data removed]"
     },
     "metadata": {},
     "output_type": "display_data"
    }
   ],
   "source": [
    "df = region_scAB(scAB_3d[\"Sperm_hg\"], (\"chr7\", 25132560, 29247100))\n",
    "\n",
    "m = 20\n",
    "\n",
    "labels = np.arange(df.shape[0]) // m\n",
    "grouper = pd.Series(labels, index=df.index)\n",
    "\n",
    "data = df.groupby(grouper).mean()\n",
    "\n",
    "fig = go.Figure()\n",
    "fig.add_trace(\n",
    "    go.Heatmap(\n",
    "        z = data.values,\n",
    "        x = data.columns,\n",
    "        y = data.index,\n",
    "        showscale = False,\n",
    "        zmin=0.005,\n",
    "        zmax=0.02,\n",
    "        colorscale = \"prgn\",\n",
    "    )\n",
    ")\n",
    "fig.update_layout(\n",
    "    margin = dict(l=10, r=10, t=10, b=10),\n",
    "    height = 100,\n",
    "    width = 500,\n",
    ")\n",
    "fig.show(renderer=\"png\")"
   ]
  },
  {
   "cell_type": "code",
   "execution_count": 81,
   "metadata": {},
   "outputs": [
    {
     "data": {
      "image/png": "[encoded data removed]"
     },
     "metadata": {},
     "output_type": "display_data"
    }
   ],
   "source": [
    "df = region_scAB(scAB_3d[\"Sperm\"], (\"chr6\", 50600000, 54600000))\n",
    "\n",
    "m = 1000\n",
    "\n",
    "labels = np.arange(df.shape[0]) // m\n",
    "grouper = pd.Series(labels, index=df.index)\n",
    "\n",
    "data = df.groupby(grouper).mean()\n",
    "\n",
    "fig = go.Figure()\n",
    "fig.add_trace(\n",
    "    go.Heatmap(\n",
    "        z = data.values,\n",
    "        x = data.columns,\n",
    "        y = data.index,\n",
    "        showscale = False,\n",
    "        #zmin=0.005,\n",
    "        #zmax=0.02,\n",
    "        colorscale = \"prgn\",\n",
    "    )\n",
    ")\n",
    "fig.update_layout(\n",
    "    margin = dict(l=10, r=10, t=10, b=10),\n",
    "    height = 100,\n",
    "    width = 500,\n",
    ")\n",
    "fig.show(renderer=\"png\")"
   ]
  }
 ],
 "metadata": {
  "kernelspec": {
   "display_name": "Python 3",
   "language": "python",
   "name": "python3"
  },
  "language_info": {
   "codemirror_mode": {
    "name": "ipython",
    "version": 3
   },
   "file_extension": ".py",
   "mimetype": "text/x-python",
   "name": "python",
   "nbconvert_exporter": "python",
   "pygments_lexer": "ipython3",
   "version": "3.10.14"
  }
 },
 "nbformat": 4,
 "nbformat_minor": 2
}
