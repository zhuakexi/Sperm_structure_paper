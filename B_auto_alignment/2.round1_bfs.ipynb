{
 "cells": [
  {
   "cell_type": "code",
   "execution_count": 1,
   "metadata": {},
   "outputs": [],
   "source": [
    "import sys\n",
    "import concurrent.futures\n",
    "from pathlib import Path\n",
    "\n",
    "sys.path.insert(0, \"/share/home/ychi/dev/sperm_struct/notebooks\")\n",
    "\n",
    "import h2 as h\n",
    "import numpy as np\n",
    "import pandas as pd\n",
    "from hic_basic.hicio import read_meta, load_pickle, load_json\n",
    "from lib.struct import pileup_bf"
   ]
  },
  {
   "cell_type": "markdown",
   "metadata": {},
   "source": [
    "### prepare data"
   ]
  },
  {
   "cell_type": "code",
   "execution_count": 8,
   "metadata": {},
   "outputs": [],
   "source": [
    "# for _3dg paths\n",
    "if h.version in [\"0\",\"1\"]:\n",
    "    meta = read_meta(\"../A_meta/meta/tillsperm55.meta.csv.gz\")\n",
    "    hg_meta = read_meta(\"../A_meta/meta/tillsperm62_hg.meta.csv.gz\")\n",
    "    GM_meta = read_meta(\"../A_meta/meta/tillsperm50_GM.meta.csv.gz\")\n",
    "    meta = pd.concat([meta, hg_meta, GM_meta],axis=0)\n",
    "elif h.version == \"2\":\n",
    "    meta = read_meta(\"../A_meta/meta/All_formal.meta.csv.gz\")\n",
    "# for axis\n",
    "primary_views = {}\n",
    "primary_views.update(load_pickle(h.dsdir / \"primary_views/Sperm.64.pkl\"))\n",
    "primary_views.update(load_pickle(h.dsdir / \"primary_views/Sperm_hg.64.pkl\"))\n",
    "# for sample list\n",
    "if h.version in [\"0\",\"1\"]:\n",
    "    Sperm_samples = load_json(f\"../Fig1S_tech_analysis/Sperm_samples_with_structure.v{h.version}.json\")\n",
    "    Sperm_hg_samples = load_json(f\"../Fig1S_tech_analysis/Sperm_hg_samples_with_structure.v{h.version}.json\")\n",
    "elif h.version == \"2\":\n",
    "    Sperm_samples = load_json(f\"../Fig1S_structure_quality/Sperm_ga.v{h.version}.json\")\n",
    "    Sperm_hg_samples = load_json(f\"../Fig1S_structure_quality/Sperm_hg_ga.v{h.version}.json\")\n",
    "# round1 targets\n",
    "Sperm_round1_targets = pd.read_csv(\n",
    "    f\"Sperm.round1.targets.v{h.version}.csv\",\n",
    "    index_col = 0\n",
    ")\n",
    "Sperm_hg_round1_targets = pd.read_csv(\n",
    "    f\"Sperm_hg.round1.targets.v{h.version}.csv\",\n",
    "    index_col = 0\n",
    ")"
   ]
  },
  {
   "cell_type": "markdown",
   "metadata": {},
   "source": [
    "### pileup arguments"
   ]
  },
  {
   "cell_type": "code",
   "execution_count": 9,
   "metadata": {},
   "outputs": [],
   "source": [
    "batches = [\n",
    "    \"Sperm_round1\",\n",
    "    \"Sperm_hg_round1\",\n",
    "]\n",
    "\n",
    "arg_targetses = { # batch_name : target df\n",
    "    \"Sperm_round1\" : Sperm_round1_targets.loc[Sperm_samples],\n",
    "    \"Sperm_hg_round1\" : Sperm_hg_round1_targets.loc[Sperm_hg_samples],\n",
    "}\n",
    "\n",
    "arg_featureses = { # batch_name : feature df\n",
    "    \"Sperm_round1\" : pd.read_csv(\n",
    "        h.ddir / \"mm10.features.csv.gz\",\n",
    "        index_col = [0,1]\n",
    "    )[[\"particle\"]],\n",
    "    \"Sperm_hg_round1\" : pd.read_csv(\n",
    "        h.ddir / \"GRCh38.features.csv.gz\",\n",
    "        index_col = [0,1]\n",
    "    )[[\"particle\"]],\n",
    "}\n",
    "\n",
    "arg_aggses = {\n",
    "    \"Sperm_round1\" : {'density': ('particle', 'sum')},\n",
    "    \"Sperm_hg_round1\" : {'density': ('particle', 'sum')},\n",
    "}\n",
    "\n",
    "arg_bfs_lr_ft_files = { # full thickness\n",
    "    batch : (h.ddir / batch).with_suffix(\".round1.lr_ft.bfs.pkl\")\n",
    "    for batch in batches\n",
    "}\n",
    "\n",
    "arg_bfs_dv_ft_files = {\n",
    "    batch : (h.ddir / batch).with_suffix(\".round1.dv_ft.bfs.pkl\")\n",
    "    for batch in batches\n",
    "}\n",
    "\n",
    "arg_bfs_lr_ss_files = { # single slice\n",
    "    batch : (h.ddir / batch).with_suffix(\".round1.lr_ss.bfs.pkl\")\n",
    "    for batch in batches\n",
    "}\n",
    "\n",
    "arg_bfs_dv_ss_files = {\n",
    "    batch : (h.ddir / batch).with_suffix(\".round1.dv_ss.bfs.pkl\")\n",
    "    for batch in batches\n",
    "}"
   ]
  },
  {
   "cell_type": "markdown",
   "metadata": {},
   "source": [
    "### do the pileups"
   ]
  },
  {
   "cell_type": "code",
   "execution_count": 12,
   "metadata": {},
   "outputs": [
    {
     "name": "stdout",
     "output_type": "stream",
     "text": [
      "/shareb/ychi/repo/sperm_struct/notebooks/data2/Sperm_round1.round1.lr_ft.bfs.pkl exists, skipping/shareb/ychi/repo/sperm_struct/notebooks/data2/Sperm_hg_round1.round1.lr_ft.bfs.pkl exists, skipping\n",
      "\n"
     ]
    }
   ],
   "source": [
    "Fin = False\n",
    "Force = False\n",
    "outfiles = arg_bfs_lr_ft_files\n",
    "\n",
    "def process_batch(batch):\n",
    "    targets, bf_file = arg_targetses[batch], outfiles[batch]\n",
    "    if bf_file.exists() and not Force:\n",
    "        print(f\"{bf_file} exists, skipping\")\n",
    "        return\n",
    "    bfs = pileup_bf(\n",
    "        primary_views,\n",
    "        targets,\n",
    "        meta,\n",
    "        features = arg_featureses[batch],\n",
    "        agg = arg_aggses[batch],\n",
    "        sub = None,\n",
    "        grouping = [\"ht\", \"dv\"]\n",
    "    )\n",
    "    bfs = bfs.swaplevel(0,1,axis=1)\n",
    "    bfs.to_pickle(bf_file)\n",
    "    print(f\"{bf_file} done\")\n",
    "\n",
    "if not Fin:\n",
    "    with concurrent.futures.ProcessPoolExecutor(8) as executor:\n",
    "        executor.map(process_batch, arg_targetses)"
   ]
  },
  {
   "cell_type": "code",
   "execution_count": 13,
   "metadata": {},
   "outputs": [
    {
     "name": "stdout",
     "output_type": "stream",
     "text": [
      "/shareb/ychi/repo/sperm_struct/notebooks/data2/Sperm_hg_round1.round1.dv_ft.bfs.pkl exists, skipping\n",
      "/shareb/ychi/repo/sperm_struct/notebooks/data2/Sperm_round1.round1.dv_ft.bfs.pkl exists, skipping\n"
     ]
    }
   ],
   "source": [
    "Fin = False\n",
    "Force = False\n",
    "outfiles = arg_bfs_dv_ft_files\n",
    "\n",
    "def process_batch(batch):\n",
    "    targets, bf_file = arg_targetses[batch], outfiles[batch]\n",
    "    if bf_file.exists() and not Force:\n",
    "        print(f\"{bf_file} exists, skipping\")\n",
    "        return\n",
    "    bfs = pileup_bf(\n",
    "        primary_views,\n",
    "        targets,\n",
    "        meta,\n",
    "        features = arg_featureses[batch],\n",
    "        agg = arg_aggses[batch],\n",
    "        sub = None,\n",
    "        grouping = [\"ht\", \"lr\"]\n",
    "    )\n",
    "    bfs = bfs.swaplevel(0,1,axis=1)\n",
    "    bfs.to_pickle(bf_file)\n",
    "    print(f\"{bf_file} done\")\n",
    "\n",
    "if not Fin:\n",
    "    with concurrent.futures.ProcessPoolExecutor(8) as executor:\n",
    "        executor.map(process_batch, arg_targetses)"
   ]
  },
  {
   "cell_type": "code",
   "execution_count": null,
   "metadata": {},
   "outputs": [],
   "source": []
  }
 ],
 "metadata": {
  "kernelspec": {
   "display_name": "Python 3",
   "language": "python",
   "name": "python3"
  },
  "language_info": {
   "codemirror_mode": {
    "name": "ipython",
    "version": 3
   },
   "file_extension": ".py",
   "mimetype": "text/x-python",
   "name": "python",
   "nbconvert_exporter": "python",
   "pygments_lexer": "ipython3",
   "version": "3.10.13"
  }
 },
 "nbformat": 4,
 "nbformat_minor": 2
}
